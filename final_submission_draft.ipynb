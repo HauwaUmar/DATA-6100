{
  "nbformat": 4,
  "nbformat_minor": 0,
  "metadata": {
    "colab": {
      "provenance": [],
      "toc_visible": true,
      "authorship_tag": "ABX9TyMtAALwGNC18OuQUNYQVbHE",
      "include_colab_link": true
    },
    "kernelspec": {
      "name": "python3",
      "display_name": "Python 3"
    },
    "language_info": {
      "name": "python"
    }
  },
  "cells": [
    {
      "cell_type": "markdown",
      "metadata": {
        "id": "view-in-github",
        "colab_type": "text"
      },
      "source": [
        "<a href=\"https://colab.research.google.com/github/HauwaUmar/DATA-6100/blob/main/final_submission_draft.ipynb\" target=\"_parent\"><img src=\"https://colab.research.google.com/assets/colab-badge.svg\" alt=\"Open In Colab\"/></a>"
      ]
    },
    {
      "cell_type": "code",
      "execution_count": null,
      "metadata": {
        "id": "xT2LJUiEMtkD"
      },
      "outputs": [],
      "source": [
        "\n",
        "\n"
      ]
    },
    {
      "cell_type": "markdown",
      "source": [
        "# Executive Summary"
      ],
      "metadata": {
        "id": "c7QF_jHJZ5vf"
      }
    },
    {
      "cell_type": "markdown",
      "source": [
        "The aim of this project is to predict house prices for residential homes in Ames, Iowa. Linear Regression was used to estimate the house prices. 79 explanatory variables were provided as features to make this prediction that gave details about each house. Both numerical and non-numerical data types were provided as features. We were provided with a training and testing dataset to implement our model on\n",
        "\n",
        "**Numerical columns**\n",
        "\n",
        "Examples of numerical columns provides are:\n",
        "```\n",
        "TotRmsAbvGrd: Total rooms above grade (does not include bathrooms)\n",
        "Fireplaces: Number of fireplaces\n",
        "GarageArea: Size of garage in square feet\n",
        "````\n",
        "**Non-numerical columns**\n",
        "\n",
        "Other columns contained categorical data i.e. ordinal and nominal data \n",
        "\n",
        "Example of columns with nominal data:\n",
        "```\n",
        "PavedDrive: Paved driveway\n",
        "\n",
        "       Y\tPaved \n",
        "       P\tPartial Pavement\n",
        "       N\tDirt/Gravel\n",
        "\n",
        "Street: Type of road access to property\n",
        "\n",
        "       Grvl\tGravel\t\n",
        "       Pave\tPaved\n",
        "```\n",
        "Examples of columns with ordinal data:\n",
        "```\n",
        "ExterQual: Evaluates the quality of the material on the exterior \n",
        "\t\t\n",
        "       Ex\tExcellent\n",
        "       Gd\tGood\n",
        "       TA\tAverage/Typical\n",
        "       Fa\tFair\n",
        "       Po\tPoor\n",
        "\n",
        "BsmtQual: Evaluates the height of the basement\n",
        "\n",
        "       Ex\tExcellent (100+ inches)\t\n",
        "       Gd\tGood (90-99 inches)\n",
        "       TA\tTypical (80-89 inches)\n",
        "       Fa\tFair (70-79 inches)\n",
        "       Po\tPoor (<70 inches)\n",
        "       NA\tNo Basement\n",
        "```\n",
        "\n",
        "After exploring the data set, I made some observations:\n",
        "- Some columns had a significant amount of missing data with up to 50% of their rows missing data, these columns were dropped.\n",
        "- The non-numeric columns contained either nominal or ordinal data types. Columns with nominal datatypes were transposed while columns with ordinal datatypes that contain information in their ordering set were transformed to numbers using a label encoder.\n",
        "\n",
        "After the data preprocessing and transformation I was left with 236 features to work it. I split the dataset back to the train and dateset originally provided and ran a linear regression with all the features.\n",
        "The model did okay after doing a cross validation which is basically a library used to ensure all observations are used for both testing and training of a model. It got an average score of 84%.\n",
        "\n",
        "While going through the models summary I noticed some columns had lower signifance in the model and decided to run a backward elimination method to removed variables that were the least significant.\n",
        "\n",
        "After the feature selection process, 107 features were returned which means 129 columns were removed from the dataset.\n",
        "\n",
        "I ran another model with the 107 variables and ran a cross validation on the new model and it improved by 2%, from 84% to 86%. That's not a big improvement but it is something.\n",
        "\n",
        "\n"
      ],
      "metadata": {
        "id": "0i_BJE6maBJQ"
      }
    },
    {
      "cell_type": "markdown",
      "source": [
        "## Kaggle Score"
      ],
      "metadata": {
        "id": "xyhLu6cH-Gi4"
      }
    },
    {
      "cell_type": "code",
      "source": [
        "from google.colab import files\n",
        "from IPython.display import Image"
      ],
      "metadata": {
        "id": "wK_lCHUo_RDt"
      },
      "execution_count": 41,
      "outputs": []
    },
    {
      "cell_type": "code",
      "source": [
        "uploaded = files.upload()"
      ],
      "metadata": {
        "id": "VIawZo05_u4t",
        "outputId": "0f83644c-75cc-4f2e-fd12-cd1c8c01b1d2",
        "colab": {
          "base_uri": "https://localhost:8080/",
          "height": 74
        }
      },
      "execution_count": 42,
      "outputs": [
        {
          "output_type": "display_data",
          "data": {
            "text/plain": [
              "<IPython.core.display.HTML object>"
            ],
            "text/html": [
              "\n",
              "     <input type=\"file\" id=\"files-908c1e7c-cc9c-4d0b-af94-9f7d080beb49\" name=\"files[]\" multiple disabled\n",
              "        style=\"border:none\" />\n",
              "     <output id=\"result-908c1e7c-cc9c-4d0b-af94-9f7d080beb49\">\n",
              "      Upload widget is only available when the cell has been executed in the\n",
              "      current browser session. Please rerun this cell to enable.\n",
              "      </output>\n",
              "      <script>// Copyright 2017 Google LLC\n",
              "//\n",
              "// Licensed under the Apache License, Version 2.0 (the \"License\");\n",
              "// you may not use this file except in compliance with the License.\n",
              "// You may obtain a copy of the License at\n",
              "//\n",
              "//      http://www.apache.org/licenses/LICENSE-2.0\n",
              "//\n",
              "// Unless required by applicable law or agreed to in writing, software\n",
              "// distributed under the License is distributed on an \"AS IS\" BASIS,\n",
              "// WITHOUT WARRANTIES OR CONDITIONS OF ANY KIND, either express or implied.\n",
              "// See the License for the specific language governing permissions and\n",
              "// limitations under the License.\n",
              "\n",
              "/**\n",
              " * @fileoverview Helpers for google.colab Python module.\n",
              " */\n",
              "(function(scope) {\n",
              "function span(text, styleAttributes = {}) {\n",
              "  const element = document.createElement('span');\n",
              "  element.textContent = text;\n",
              "  for (const key of Object.keys(styleAttributes)) {\n",
              "    element.style[key] = styleAttributes[key];\n",
              "  }\n",
              "  return element;\n",
              "}\n",
              "\n",
              "// Max number of bytes which will be uploaded at a time.\n",
              "const MAX_PAYLOAD_SIZE = 100 * 1024;\n",
              "\n",
              "function _uploadFiles(inputId, outputId) {\n",
              "  const steps = uploadFilesStep(inputId, outputId);\n",
              "  const outputElement = document.getElementById(outputId);\n",
              "  // Cache steps on the outputElement to make it available for the next call\n",
              "  // to uploadFilesContinue from Python.\n",
              "  outputElement.steps = steps;\n",
              "\n",
              "  return _uploadFilesContinue(outputId);\n",
              "}\n",
              "\n",
              "// This is roughly an async generator (not supported in the browser yet),\n",
              "// where there are multiple asynchronous steps and the Python side is going\n",
              "// to poll for completion of each step.\n",
              "// This uses a Promise to block the python side on completion of each step,\n",
              "// then passes the result of the previous step as the input to the next step.\n",
              "function _uploadFilesContinue(outputId) {\n",
              "  const outputElement = document.getElementById(outputId);\n",
              "  const steps = outputElement.steps;\n",
              "\n",
              "  const next = steps.next(outputElement.lastPromiseValue);\n",
              "  return Promise.resolve(next.value.promise).then((value) => {\n",
              "    // Cache the last promise value to make it available to the next\n",
              "    // step of the generator.\n",
              "    outputElement.lastPromiseValue = value;\n",
              "    return next.value.response;\n",
              "  });\n",
              "}\n",
              "\n",
              "/**\n",
              " * Generator function which is called between each async step of the upload\n",
              " * process.\n",
              " * @param {string} inputId Element ID of the input file picker element.\n",
              " * @param {string} outputId Element ID of the output display.\n",
              " * @return {!Iterable<!Object>} Iterable of next steps.\n",
              " */\n",
              "function* uploadFilesStep(inputId, outputId) {\n",
              "  const inputElement = document.getElementById(inputId);\n",
              "  inputElement.disabled = false;\n",
              "\n",
              "  const outputElement = document.getElementById(outputId);\n",
              "  outputElement.innerHTML = '';\n",
              "\n",
              "  const pickedPromise = new Promise((resolve) => {\n",
              "    inputElement.addEventListener('change', (e) => {\n",
              "      resolve(e.target.files);\n",
              "    });\n",
              "  });\n",
              "\n",
              "  const cancel = document.createElement('button');\n",
              "  inputElement.parentElement.appendChild(cancel);\n",
              "  cancel.textContent = 'Cancel upload';\n",
              "  const cancelPromise = new Promise((resolve) => {\n",
              "    cancel.onclick = () => {\n",
              "      resolve(null);\n",
              "    };\n",
              "  });\n",
              "\n",
              "  // Wait for the user to pick the files.\n",
              "  const files = yield {\n",
              "    promise: Promise.race([pickedPromise, cancelPromise]),\n",
              "    response: {\n",
              "      action: 'starting',\n",
              "    }\n",
              "  };\n",
              "\n",
              "  cancel.remove();\n",
              "\n",
              "  // Disable the input element since further picks are not allowed.\n",
              "  inputElement.disabled = true;\n",
              "\n",
              "  if (!files) {\n",
              "    return {\n",
              "      response: {\n",
              "        action: 'complete',\n",
              "      }\n",
              "    };\n",
              "  }\n",
              "\n",
              "  for (const file of files) {\n",
              "    const li = document.createElement('li');\n",
              "    li.append(span(file.name, {fontWeight: 'bold'}));\n",
              "    li.append(span(\n",
              "        `(${file.type || 'n/a'}) - ${file.size} bytes, ` +\n",
              "        `last modified: ${\n",
              "            file.lastModifiedDate ? file.lastModifiedDate.toLocaleDateString() :\n",
              "                                    'n/a'} - `));\n",
              "    const percent = span('0% done');\n",
              "    li.appendChild(percent);\n",
              "\n",
              "    outputElement.appendChild(li);\n",
              "\n",
              "    const fileDataPromise = new Promise((resolve) => {\n",
              "      const reader = new FileReader();\n",
              "      reader.onload = (e) => {\n",
              "        resolve(e.target.result);\n",
              "      };\n",
              "      reader.readAsArrayBuffer(file);\n",
              "    });\n",
              "    // Wait for the data to be ready.\n",
              "    let fileData = yield {\n",
              "      promise: fileDataPromise,\n",
              "      response: {\n",
              "        action: 'continue',\n",
              "      }\n",
              "    };\n",
              "\n",
              "    // Use a chunked sending to avoid message size limits. See b/62115660.\n",
              "    let position = 0;\n",
              "    do {\n",
              "      const length = Math.min(fileData.byteLength - position, MAX_PAYLOAD_SIZE);\n",
              "      const chunk = new Uint8Array(fileData, position, length);\n",
              "      position += length;\n",
              "\n",
              "      const base64 = btoa(String.fromCharCode.apply(null, chunk));\n",
              "      yield {\n",
              "        response: {\n",
              "          action: 'append',\n",
              "          file: file.name,\n",
              "          data: base64,\n",
              "        },\n",
              "      };\n",
              "\n",
              "      let percentDone = fileData.byteLength === 0 ?\n",
              "          100 :\n",
              "          Math.round((position / fileData.byteLength) * 100);\n",
              "      percent.textContent = `${percentDone}% done`;\n",
              "\n",
              "    } while (position < fileData.byteLength);\n",
              "  }\n",
              "\n",
              "  // All done.\n",
              "  yield {\n",
              "    response: {\n",
              "      action: 'complete',\n",
              "    }\n",
              "  };\n",
              "}\n",
              "\n",
              "scope.google = scope.google || {};\n",
              "scope.google.colab = scope.google.colab || {};\n",
              "scope.google.colab._files = {\n",
              "  _uploadFiles,\n",
              "  _uploadFilesContinue,\n",
              "};\n",
              "})(self);\n",
              "</script> "
            ]
          },
          "metadata": {}
        },
        {
          "output_type": "stream",
          "name": "stdout",
          "text": [
            "Saving kaggle_score.png to kaggle_score.png\n"
          ]
        }
      ]
    },
    {
      "cell_type": "code",
      "source": [
        "Image('kaggle_score.png')"
      ],
      "metadata": {
        "id": "TRfilxkpAJf0",
        "outputId": "4965825d-3195-40c5-cc95-e3ddb4661144",
        "colab": {
          "base_uri": "https://localhost:8080/",
          "height": 174
        }
      },
      "execution_count": 43,
      "outputs": [
        {
          "output_type": "execute_result",
          "data": {
            "image/png": "[encoded data removed]",
            "text/plain": [
              "<IPython.core.display.Image object>"
            ]
          },
          "metadata": {},
          "execution_count": 43
        }
      ]
    },
    {
      "cell_type": "markdown",
      "source": [
        "# Detailed Result"
      ],
      "metadata": {
        "id": "mV92heqRDll5"
      }
    },
    {
      "cell_type": "code",
      "source": [
        "import numpy as np\n",
        "import pandas as pd\n",
        "from sklearn import metrics\n",
        "import seaborn as sns\n",
        "import matplotlib.pyplot as plt\n",
        "from sklearn.linear_model import LinearRegression\n",
        "from scipy import stats\n",
        "import statsmodels.api as sm\n",
        "from scipy.stats import norm, skew #for some statistics\n",
        "from sklearn.model_selection import KFold, cross_val_score #for cross validation\n",
        "pd.set_option('display.min_rows', 4)"
      ],
      "metadata": {
        "id": "ZTzHVFj1DuMz"
      },
      "execution_count": 1,
      "outputs": []
    },
    {
      "cell_type": "code",
      "source": [
        "train_dataset = pd.read_csv(\"train.csv\")\n",
        "true_test_dataset = pd.read_csv(\"test.csv\")\n",
        "\n",
        "#check the numbers of samples and features\n",
        "print(\"The train data size: {} \".format(train_dataset.shape))\n",
        "print(\"The test data size: {} \".format(true_test_dataset.shape))"
      ],
      "metadata": {
        "id": "u_LmZHOvM2Vp",
        "outputId": "959f20b1-e077-47d8-aa61-1ab1f17cbfe0",
        "colab": {
          "base_uri": "https://localhost:8080/"
        }
      },
      "execution_count": 2,
      "outputs": [
        {
          "output_type": "stream",
          "name": "stdout",
          "text": [
            "The train data size: (1460, 81) \n",
            "The test data size: (1459, 80) \n"
          ]
        }
      ]
    },
    {
      "cell_type": "code",
      "source": [
        "display(train_dataset)"
      ],
      "metadata": {
        "colab": {
          "base_uri": "https://localhost:8080/",
          "height": 299
        },
        "id": "carUO0HJM2c3",
        "outputId": "50566189-e0f3-4e95-e5a7-d101250d0368",
        "collapsed": true
      },
      "execution_count": 3,
      "outputs": [
        {
          "output_type": "display_data",
          "data": {
            "text/plain": [
              "        Id  MSSubClass MSZoning  LotFrontage  LotArea Street Alley LotShape  \\\n",
              "0        1          60       RL         65.0     8450   Pave   NaN      Reg   \n",
              "1        2          20       RL         80.0     9600   Pave   NaN      Reg   \n",
              "...    ...         ...      ...          ...      ...    ...   ...      ...   \n",
              "1458  1459          20       RL         68.0     9717   Pave   NaN      Reg   \n",
              "1459  1460          20       RL         75.0     9937   Pave   NaN      Reg   \n",
              "\n",
              "     LandContour Utilities  ... PoolArea PoolQC Fence MiscFeature MiscVal  \\\n",
              "0            Lvl    AllPub  ...        0    NaN   NaN         NaN       0   \n",
              "1            Lvl    AllPub  ...        0    NaN   NaN         NaN       0   \n",
              "...          ...       ...  ...      ...    ...   ...         ...     ...   \n",
              "1458         Lvl    AllPub  ...        0    NaN   NaN         NaN       0   \n",
              "1459         Lvl    AllPub  ...        0    NaN   NaN         NaN       0   \n",
              "\n",
              "     MoSold YrSold  SaleType  SaleCondition  SalePrice  \n",
              "0         2   2008        WD         Normal     208500  \n",
              "1         5   2007        WD         Normal     181500  \n",
              "...     ...    ...       ...            ...        ...  \n",
              "1458      4   2010        WD         Normal     142125  \n",
              "1459      6   2008        WD         Normal     147500  \n",
              "\n",
              "[1460 rows x 81 columns]"
            ],
            "text/html": [
              "\n",
              "  <div id=\"df-ec37c72f-6f0b-44f5-a90d-781163461222\">\n",
              "    <div class=\"colab-df-container\">\n",
              "      <div>\n",
              "<style scoped>\n",
              "    .dataframe tbody tr th:only-of-type {\n",
              "        vertical-align: middle;\n",
              "    }\n",
              "\n",
              "    .dataframe tbody tr th {\n",
              "        vertical-align: top;\n",
              "    }\n",
              "\n",
              "    .dataframe thead th {\n",
              "        text-align: right;\n",
              "    }\n",
              "</style>\n",
              "<table border=\"1\" class=\"dataframe\">\n",
              "  <thead>\n",
              "    <tr style=\"text-align: right;\">\n",
              "      <th></th>\n",
              "      <th>Id</th>\n",
              "      <th>MSSubClass</th>\n",
              "      <th>MSZoning</th>\n",
              "      <th>LotFrontage</th>\n",
              "      <th>LotArea</th>\n",
              "      <th>Street</th>\n",
              "      <th>Alley</th>\n",
              "      <th>LotShape</th>\n",
              "      <th>LandContour</th>\n",
              "      <th>Utilities</th>\n",
              "      <th>...</th>\n",
              "      <th>PoolArea</th>\n",
              "      <th>PoolQC</th>\n",
              "      <th>Fence</th>\n",
              "      <th>MiscFeature</th>\n",
              "      <th>MiscVal</th>\n",
              "      <th>MoSold</th>\n",
              "      <th>YrSold</th>\n",
              "      <th>SaleType</th>\n",
              "      <th>SaleCondition</th>\n",
              "      <th>SalePrice</th>\n",
              "    </tr>\n",
              "  </thead>\n",
              "  <tbody>\n",
              "    <tr>\n",
              "      <th>0</th>\n",
              "      <td>1</td>\n",
              "      <td>60</td>\n",
              "      <td>RL</td>\n",
              "      <td>65.0</td>\n",
              "      <td>8450</td>\n",
              "      <td>Pave</td>\n",
              "      <td>NaN</td>\n",
              "      <td>Reg</td>\n",
              "      <td>Lvl</td>\n",
              "      <td>AllPub</td>\n",
              "      <td>...</td>\n",
              "      <td>0</td>\n",
              "      <td>NaN</td>\n",
              "      <td>NaN</td>\n",
              "      <td>NaN</td>\n",
              "      <td>0</td>\n",
              "      <td>2</td>\n",
              "      <td>2008</td>\n",
              "      <td>WD</td>\n",
              "      <td>Normal</td>\n",
              "      <td>208500</td>\n",
              "    </tr>\n",
              "    <tr>\n",
              "      <th>1</th>\n",
              "      <td>2</td>\n",
              "      <td>20</td>\n",
              "      <td>RL</td>\n",
              "      <td>80.0</td>\n",
              "      <td>9600</td>\n",
              "      <td>Pave</td>\n",
              "      <td>NaN</td>\n",
              "      <td>Reg</td>\n",
              "      <td>Lvl</td>\n",
              "      <td>AllPub</td>\n",
              "      <td>...</td>\n",
              "      <td>0</td>\n",
              "      <td>NaN</td>\n",
              "      <td>NaN</td>\n",
              "      <td>NaN</td>\n",
              "      <td>0</td>\n",
              "      <td>5</td>\n",
              "      <td>2007</td>\n",
              "      <td>WD</td>\n",
              "      <td>Normal</td>\n",
              "      <td>181500</td>\n",
              "    </tr>\n",
              "    <tr>\n",
              "      <th>...</th>\n",
              "      <td>...</td>\n",
              "      <td>...</td>\n",
              "      <td>...</td>\n",
              "      <td>...</td>\n",
              "      <td>...</td>\n",
              "      <td>...</td>\n",
              "      <td>...</td>\n",
              "      <td>...</td>\n",
              "      <td>...</td>\n",
              "      <td>...</td>\n",
              "      <td>...</td>\n",
              "      <td>...</td>\n",
              "      <td>...</td>\n",
              "      <td>...</td>\n",
              "      <td>...</td>\n",
              "      <td>...</td>\n",
              "      <td>...</td>\n",
              "      <td>...</td>\n",
              "      <td>...</td>\n",
              "      <td>...</td>\n",
              "      <td>...</td>\n",
              "    </tr>\n",
              "    <tr>\n",
              "      <th>1458</th>\n",
              "      <td>1459</td>\n",
              "      <td>20</td>\n",
              "      <td>RL</td>\n",
              "      <td>68.0</td>\n",
              "      <td>9717</td>\n",
              "      <td>Pave</td>\n",
              "      <td>NaN</td>\n",
              "      <td>Reg</td>\n",
              "      <td>Lvl</td>\n",
              "      <td>AllPub</td>\n",
              "      <td>...</td>\n",
              "      <td>0</td>\n",
              "      <td>NaN</td>\n",
              "      <td>NaN</td>\n",
              "      <td>NaN</td>\n",
              "      <td>0</td>\n",
              "      <td>4</td>\n",
              "      <td>2010</td>\n",
              "      <td>WD</td>\n",
              "      <td>Normal</td>\n",
              "      <td>142125</td>\n",
              "    </tr>\n",
              "    <tr>\n",
              "      <th>1459</th>\n",
              "      <td>1460</td>\n",
              "      <td>20</td>\n",
              "      <td>RL</td>\n",
              "      <td>75.0</td>\n",
              "      <td>9937</td>\n",
              "      <td>Pave</td>\n",
              "      <td>NaN</td>\n",
              "      <td>Reg</td>\n",
              "      <td>Lvl</td>\n",
              "      <td>AllPub</td>\n",
              "      <td>...</td>\n",
              "      <td>0</td>\n",
              "      <td>NaN</td>\n",
              "      <td>NaN</td>\n",
              "      <td>NaN</td>\n",
              "      <td>0</td>\n",
              "      <td>6</td>\n",
              "      <td>2008</td>\n",
              "      <td>WD</td>\n",
              "      <td>Normal</td>\n",
              "      <td>147500</td>\n",
              "    </tr>\n",
              "  </tbody>\n",
              "</table>\n",
              "<p>1460 rows × 81 columns</p>\n",
              "</div>\n",
              "      <button class=\"colab-df-convert\" onclick=\"convertToInteractive('df-ec37c72f-6f0b-44f5-a90d-781163461222')\"\n",
              "              title=\"Convert this dataframe to an interactive table.\"\n",
              "              style=\"display:none;\">\n",
              "        \n",
              "  <svg xmlns=\"http://www.w3.org/2000/svg\" height=\"24px\"viewBox=\"0 0 24 24\"\n",
              "       width=\"24px\">\n",
              "    <path d=\"M0 0h24v24H0V0z\" fill=\"none\"/>\n",
              "    <path d=\"M18.56 5.44l.94 2.06.94-2.06 2.06-.94-2.06-.94-.94-2.06-.94 2.06-2.06.94zm-11 1L8.5 8.5l.94-2.06 2.06-.94-2.06-.94L8.5 2.5l-.94 2.06-2.06.94zm10 10l.94 2.06.94-2.06 2.06-.94-2.06-.94-.94-2.06-.94 2.06-2.06.94z\"/><path d=\"M17.41 7.96l-1.37-1.37c-.4-.4-.92-.59-1.43-.59-.52 0-1.04.2-1.43.59L10.3 9.45l-7.72 7.72c-.78.78-.78 2.05 0 2.83L4 21.41c.39.39.9.59 1.41.59.51 0 1.02-.2 1.41-.59l7.78-7.78 2.81-2.81c.8-.78.8-2.07 0-2.86zM5.41 20L4 18.59l7.72-7.72 1.47 1.35L5.41 20z\"/>\n",
              "  </svg>\n",
              "      </button>\n",
              "      \n",
              "  <style>\n",
              "    .colab-df-container {\n",
              "      display:flex;\n",
              "      flex-wrap:wrap;\n",
              "      gap: 12px;\n",
              "    }\n",
              "\n",
              "    .colab-df-convert {\n",
              "      background-color: #E8F0FE;\n",
              "      border: none;\n",
              "      border-radius: 50%;\n",
              "      cursor: pointer;\n",
              "      display: none;\n",
              "      fill: #1967D2;\n",
              "      height: 32px;\n",
              "      padding: 0 0 0 0;\n",
              "      width: 32px;\n",
              "    }\n",
              "\n",
              "    .colab-df-convert:hover {\n",
              "      background-color: #E2EBFA;\n",
              "      box-shadow: 0px 1px 2px rgba(60, 64, 67, 0.3), 0px 1px 3px 1px rgba(60, 64, 67, 0.15);\n",
              "      fill: #174EA6;\n",
              "    }\n",
              "\n",
              "    [theme=dark] .colab-df-convert {\n",
              "      background-color: #3B4455;\n",
              "      fill: #D2E3FC;\n",
              "    }\n",
              "\n",
              "    [theme=dark] .colab-df-convert:hover {\n",
              "      background-color: #434B5C;\n",
              "      box-shadow: 0px 1px 3px 1px rgba(0, 0, 0, 0.15);\n",
              "      filter: drop-shadow(0px 1px 2px rgba(0, 0, 0, 0.3));\n",
              "      fill: #FFFFFF;\n",
              "    }\n",
              "  </style>\n",
              "\n",
              "      <script>\n",
              "        const buttonEl =\n",
              "          document.querySelector('#df-ec37c72f-6f0b-44f5-a90d-781163461222 button.colab-df-convert');\n",
              "        buttonEl.style.display =\n",
              "          google.colab.kernel.accessAllowed ? 'block' : 'none';\n",
              "\n",
              "        async function convertToInteractive(key) {\n",
              "          const element = document.querySelector('#df-ec37c72f-6f0b-44f5-a90d-781163461222');\n",
              "          const dataTable =\n",
              "            await google.colab.kernel.invokeFunction('convertToInteractive',\n",
              "                                                     [key], {});\n",
              "          if (!dataTable) return;\n",
              "\n",
              "          const docLinkHtml = 'Like what you see? Visit the ' +\n",
              "            '<a target=\"_blank\" href=https://colab.research.google.com/notebooks/data_table.ipynb>data table notebook</a>'\n",
              "            + ' to learn more about interactive tables.';\n",
              "          element.innerHTML = '';\n",
              "          dataTable['output_type'] = 'display_data';\n",
              "          await google.colab.output.renderOutput(dataTable, element);\n",
              "          const docLink = document.createElement('div');\n",
              "          docLink.innerHTML = docLinkHtml;\n",
              "          element.appendChild(docLink);\n",
              "        }\n",
              "      </script>\n",
              "    </div>\n",
              "  </div>\n",
              "  "
            ]
          },
          "metadata": {}
        }
      ]
    },
    {
      "cell_type": "code",
      "source": [
        "# combine both testing and training dataset for transformation\n",
        "whole_dataset = pd.concat((train_dataset, true_test_dataset)).reset_index(drop = True)\n",
        "\n",
        "print(\"\\nThe whole data size before dropping Id feature is : {} \".format(whole_dataset.shape)) \n",
        "#Now drop the  'Id' colum since it's unnecessary for  the prediction process.\n",
        "whole_dataset.drop(\"Id\", axis = 1, inplace = True)\n",
        "\n",
        "#check again the data size after dropping the 'Id' variable\n",
        "print(\"\\nThe whole data size after dropping Id feature is : {} \".format(whole_dataset.shape)) \n"
      ],
      "metadata": {
        "id": "dqawWYFtM2aC",
        "outputId": "29574d87-a39e-40b3-984b-2e802130e2ec",
        "colab": {
          "base_uri": "https://localhost:8080/"
        }
      },
      "execution_count": 4,
      "outputs": [
        {
          "output_type": "stream",
          "name": "stdout",
          "text": [
            "\n",
            "The whole data size before dropping Id feature is : (2919, 81) \n",
            "\n",
            "The whole data size after dropping Id feature is : (2919, 80) \n"
          ]
        }
      ]
    },
    {
      "cell_type": "markdown",
      "source": [
        "## Data Preprocessing"
      ],
      "metadata": {
        "id": "Y7mYZnlLvLsv"
      }
    },
    {
      "cell_type": "code",
      "source": [
        "# checking the distribution for the target\n",
        "sns.displot(train_dataset['SalePrice'], height=3, aspect=2)\n",
        "\n",
        "\n",
        "#Get also the QQ-plot\n",
        "fig = plt.figure()\n",
        "res = stats.probplot(train_dataset['SalePrice'], plot=plt)\n",
        "plt.show()"
      ],
      "metadata": {
        "colab": {
          "base_uri": "https://localhost:8080/",
          "height": 503
        },
        "id": "3qmAasRpM2fF",
        "outputId": "8c81c6d0-732d-4281-9a10-b41fe1480a41",
        "collapsed": true
      },
      "execution_count": 5,
      "outputs": [
        {
          "output_type": "display_data",
          "data": {
            "text/plain": [
              "<Figure size 432x216 with 1 Axes>"
            ],
            "image/png": "[encoded data removed]"
          },
          "metadata": {
            "needs_background": "light"
          }
        },
        {
          "output_type": "display_data",
          "data": {
            "text/plain": [
              "<Figure size 432x288 with 1 Axes>"
            ],
            "image/png": "[encoded data removed]"
          },
          "metadata": {
            "needs_background": "light"
          }
        }
      ]
    },
    {
      "cell_type": "markdown",
      "source": [
        "The target variable is right skewed. As (linear) models love normally distributed data , we need to transform this variable and make it more normally distributed."
      ],
      "metadata": {
        "id": "P-R7S5XcOihC"
      }
    },
    {
      "cell_type": "code",
      "source": [
        "#We use the numpy fuction log1p which  applies log(1+x) to all elements of the column\n",
        "train_dataset[\"SalePrice\"] = np.log1p(train_dataset[\"SalePrice\"])\n",
        "\n",
        "#Check the new distribution \n",
        "sns.distplot(train_dataset['SalePrice']);\n",
        "\n",
        "#Get also the QQ-plot\n",
        "fig = plt.figure()\n",
        "res = stats.probplot(train_dataset['SalePrice'], plot=plt)\n",
        "plt.show()"
      ],
      "metadata": {
        "colab": {
          "base_uri": "https://localhost:8080/",
          "height": 612
        },
        "id": "Du5okI76M2ha",
        "outputId": "e0c7bbd1-5e78-41a2-f2dd-62e9fb31423e",
        "collapsed": true
      },
      "execution_count": 6,
      "outputs": [
        {
          "output_type": "stream",
          "name": "stderr",
          "text": [
            "/usr/local/lib/python3.7/dist-packages/seaborn/distributions.py:2619: FutureWarning: `distplot` is a deprecated function and will be removed in a future version. Please adapt your code to use either `displot` (a figure-level function with similar flexibility) or `histplot` (an axes-level function for histograms).\n",
            "  warnings.warn(msg, FutureWarning)\n"
          ]
        },
        {
          "output_type": "display_data",
          "data": {
            "text/plain": [
              "<Figure size 432x288 with 1 Axes>"
            ],
            "image/png": "[encoded data removed]"
          },
          "metadata": {
            "needs_background": "light"
          }
        },
        {
          "output_type": "display_data",
          "data": {
            "text/plain": [
              "<Figure size 432x288 with 1 Axes>"
            ],
            "image/png": "[encoded data removed]"
          },
          "metadata": {
            "needs_background": "light"
          }
        }
      ]
    },
    {
      "cell_type": "markdown",
      "source": [
        "The data now looks better i.e. it looks more normally distributed."
      ],
      "metadata": {
        "id": "nFmqEOVfPZSN"
      }
    },
    {
      "cell_type": "markdown",
      "source": [
        "### Handling missing data\n"
      ],
      "metadata": {
        "id": "c4CSdM5YP_BN"
      }
    },
    {
      "cell_type": "markdown",
      "source": [
        "Remember we concatenated thr train and test data set to a dataframe called \"whole_dataset\". We will use that for our data cleaning so both datasets can be aligned"
      ],
      "metadata": {
        "id": "WlTih9P-QJM1"
      }
    },
    {
      "cell_type": "code",
      "source": [
        "# this function will go through the data frame and return information on columns with missing values such as the number of missing data in each column and the percentage of missing value overall for each column\n",
        "def info_on_missing_values(df):\n",
        "    total_missing_values = df.isnull().sum().sort_values(ascending = False)[df.isnull().sum().sort_values(ascending = False) != 0]\n",
        "    percentage = round(df.isnull().sum().sort_values(ascending = False)/len(df)*100,2)[round(df.isnull().sum().sort_values(ascending = False)/len(df)*100,2) != 0]\n",
        "    data_type = df.dtypes.sort_values(ascending = False)[df.isnull().sum().sort_values(ascending = False) != 0]\n",
        "    decription_of_missing_values = pd.concat([total_missing_values, percentage, data_type], axis=1, keys=['Total Missing Val','Percentage','Data Type'])\n",
        "    return decription_of_missing_values\n",
        "\n",
        "info_on_missing_values(whole_dataset)[:10]"
      ],
      "metadata": {
        "colab": {
          "base_uri": "https://localhost:8080/",
          "height": 363
        },
        "id": "KraYFb2tM2mJ",
        "outputId": "a527fb9b-7600-47ad-8ac2-55b54863ea4c",
        "collapsed": true
      },
      "execution_count": 7,
      "outputs": [
        {
          "output_type": "execute_result",
          "data": {
            "text/plain": [
              "              Total Missing Val  Percentage Data Type\n",
              "PoolQC                     2909       99.66    object\n",
              "MiscFeature                2814       96.40    object\n",
              "Alley                      2721       93.22    object\n",
              "Fence                      2348       80.44    object\n",
              "SalePrice                  1459       49.98   float64\n",
              "FireplaceQu                1420       48.65    object\n",
              "LotFrontage                 486       16.65   float64\n",
              "GarageCond                  159        5.45    object\n",
              "GarageFinish                159        5.45    object\n",
              "GarageQual                  159        5.45    object"
            ],
            "text/html": [
              "\n",
              "  <div id=\"df-13fd4ee5-cefd-4750-a7fc-ce6498afbc71\">\n",
              "    <div class=\"colab-df-container\">\n",
              "      <div>\n",
              "<style scoped>\n",
              "    .dataframe tbody tr th:only-of-type {\n",
              "        vertical-align: middle;\n",
              "    }\n",
              "\n",
              "    .dataframe tbody tr th {\n",
              "        vertical-align: top;\n",
              "    }\n",
              "\n",
              "    .dataframe thead th {\n",
              "        text-align: right;\n",
              "    }\n",
              "</style>\n",
              "<table border=\"1\" class=\"dataframe\">\n",
              "  <thead>\n",
              "    <tr style=\"text-align: right;\">\n",
              "      <th></th>\n",
              "      <th>Total Missing Val</th>\n",
              "      <th>Percentage</th>\n",
              "      <th>Data Type</th>\n",
              "    </tr>\n",
              "  </thead>\n",
              "  <tbody>\n",
              "    <tr>\n",
              "      <th>PoolQC</th>\n",
              "      <td>2909</td>\n",
              "      <td>99.66</td>\n",
              "      <td>object</td>\n",
              "    </tr>\n",
              "    <tr>\n",
              "      <th>MiscFeature</th>\n",
              "      <td>2814</td>\n",
              "      <td>96.40</td>\n",
              "      <td>object</td>\n",
              "    </tr>\n",
              "    <tr>\n",
              "      <th>Alley</th>\n",
              "      <td>2721</td>\n",
              "      <td>93.22</td>\n",
              "      <td>object</td>\n",
              "    </tr>\n",
              "    <tr>\n",
              "      <th>Fence</th>\n",
              "      <td>2348</td>\n",
              "      <td>80.44</td>\n",
              "      <td>object</td>\n",
              "    </tr>\n",
              "    <tr>\n",
              "      <th>SalePrice</th>\n",
              "      <td>1459</td>\n",
              "      <td>49.98</td>\n",
              "      <td>float64</td>\n",
              "    </tr>\n",
              "    <tr>\n",
              "      <th>FireplaceQu</th>\n",
              "      <td>1420</td>\n",
              "      <td>48.65</td>\n",
              "      <td>object</td>\n",
              "    </tr>\n",
              "    <tr>\n",
              "      <th>LotFrontage</th>\n",
              "      <td>486</td>\n",
              "      <td>16.65</td>\n",
              "      <td>float64</td>\n",
              "    </tr>\n",
              "    <tr>\n",
              "      <th>GarageCond</th>\n",
              "      <td>159</td>\n",
              "      <td>5.45</td>\n",
              "      <td>object</td>\n",
              "    </tr>\n",
              "    <tr>\n",
              "      <th>GarageFinish</th>\n",
              "      <td>159</td>\n",
              "      <td>5.45</td>\n",
              "      <td>object</td>\n",
              "    </tr>\n",
              "    <tr>\n",
              "      <th>GarageQual</th>\n",
              "      <td>159</td>\n",
              "      <td>5.45</td>\n",
              "      <td>object</td>\n",
              "    </tr>\n",
              "  </tbody>\n",
              "</table>\n",
              "</div>\n",
              "      <button class=\"colab-df-convert\" onclick=\"convertToInteractive('df-13fd4ee5-cefd-4750-a7fc-ce6498afbc71')\"\n",
              "              title=\"Convert this dataframe to an interactive table.\"\n",
              "              style=\"display:none;\">\n",
              "        \n",
              "  <svg xmlns=\"http://www.w3.org/2000/svg\" height=\"24px\"viewBox=\"0 0 24 24\"\n",
              "       width=\"24px\">\n",
              "    <path d=\"M0 0h24v24H0V0z\" fill=\"none\"/>\n",
              "    <path d=\"M18.56 5.44l.94 2.06.94-2.06 2.06-.94-2.06-.94-.94-2.06-.94 2.06-2.06.94zm-11 1L8.5 8.5l.94-2.06 2.06-.94-2.06-.94L8.5 2.5l-.94 2.06-2.06.94zm10 10l.94 2.06.94-2.06 2.06-.94-2.06-.94-.94-2.06-.94 2.06-2.06.94z\"/><path d=\"M17.41 7.96l-1.37-1.37c-.4-.4-.92-.59-1.43-.59-.52 0-1.04.2-1.43.59L10.3 9.45l-7.72 7.72c-.78.78-.78 2.05 0 2.83L4 21.41c.39.39.9.59 1.41.59.51 0 1.02-.2 1.41-.59l7.78-7.78 2.81-2.81c.8-.78.8-2.07 0-2.86zM5.41 20L4 18.59l7.72-7.72 1.47 1.35L5.41 20z\"/>\n",
              "  </svg>\n",
              "      </button>\n",
              "      \n",
              "  <style>\n",
              "    .colab-df-container {\n",
              "      display:flex;\n",
              "      flex-wrap:wrap;\n",
              "      gap: 12px;\n",
              "    }\n",
              "\n",
              "    .colab-df-convert {\n",
              "      background-color: #E8F0FE;\n",
              "      border: none;\n",
              "      border-radius: 50%;\n",
              "      cursor: pointer;\n",
              "      display: none;\n",
              "      fill: #1967D2;\n",
              "      height: 32px;\n",
              "      padding: 0 0 0 0;\n",
              "      width: 32px;\n",
              "    }\n",
              "\n",
              "    .colab-df-convert:hover {\n",
              "      background-color: #E2EBFA;\n",
              "      box-shadow: 0px 1px 2px rgba(60, 64, 67, 0.3), 0px 1px 3px 1px rgba(60, 64, 67, 0.15);\n",
              "      fill: #174EA6;\n",
              "    }\n",
              "\n",
              "    [theme=dark] .colab-df-convert {\n",
              "      background-color: #3B4455;\n",
              "      fill: #D2E3FC;\n",
              "    }\n",
              "\n",
              "    [theme=dark] .colab-df-convert:hover {\n",
              "      background-color: #434B5C;\n",
              "      box-shadow: 0px 1px 3px 1px rgba(0, 0, 0, 0.15);\n",
              "      filter: drop-shadow(0px 1px 2px rgba(0, 0, 0, 0.3));\n",
              "      fill: #FFFFFF;\n",
              "    }\n",
              "  </style>\n",
              "\n",
              "      <script>\n",
              "        const buttonEl =\n",
              "          document.querySelector('#df-13fd4ee5-cefd-4750-a7fc-ce6498afbc71 button.colab-df-convert');\n",
              "        buttonEl.style.display =\n",
              "          google.colab.kernel.accessAllowed ? 'block' : 'none';\n",
              "\n",
              "        async function convertToInteractive(key) {\n",
              "          const element = document.querySelector('#df-13fd4ee5-cefd-4750-a7fc-ce6498afbc71');\n",
              "          const dataTable =\n",
              "            await google.colab.kernel.invokeFunction('convertToInteractive',\n",
              "                                                     [key], {});\n",
              "          if (!dataTable) return;\n",
              "\n",
              "          const docLinkHtml = 'Like what you see? Visit the ' +\n",
              "            '<a target=\"_blank\" href=https://colab.research.google.com/notebooks/data_table.ipynb>data table notebook</a>'\n",
              "            + ' to learn more about interactive tables.';\n",
              "          element.innerHTML = '';\n",
              "          dataTable['output_type'] = 'display_data';\n",
              "          await google.colab.output.renderOutput(dataTable, element);\n",
              "          const docLink = document.createElement('div');\n",
              "          docLink.innerHTML = docLinkHtml;\n",
              "          element.appendChild(docLink);\n",
              "        }\n",
              "      </script>\n",
              "    </div>\n",
              "  </div>\n",
              "  "
            ]
          },
          "metadata": {},
          "execution_count": 7
        }
      ]
    },
    {
      "cell_type": "code",
      "source": [
        "# plotting a bar chart to show the percentage of missing values in each column with missing values \n",
        "col = whole_dataset.columns[whole_dataset.isna().any().to_list()]\n",
        "f, ax = plt.subplots(figsize=(10, 5))\n",
        "plt.xticks(rotation='90')\n",
        "sns.barplot(x=col, y=(whole_dataset[col].isnull().sum().values)/len(whole_dataset)*100)\n",
        "plt.xlabel('Variables', fontsize=15)\n",
        "plt.ylabel('Percentage of missing values', fontsize=15)\n",
        "plt.title('Percentage of missing data by variable', fontsize=15)"
      ],
      "metadata": {
        "colab": {
          "base_uri": "https://localhost:8080/",
          "height": 435
        },
        "id": "8oQpG4PbM2ob",
        "outputId": "c219d577-d7ae-421f-ee83-b1ff10db3b47",
        "collapsed": true
      },
      "execution_count": 8,
      "outputs": [
        {
          "output_type": "execute_result",
          "data": {
            "text/plain": [
              "Text(0.5, 1.0, 'Percentage of missing data by variable')"
            ]
          },
          "metadata": {},
          "execution_count": 8
        },
        {
          "output_type": "display_data",
          "data": {
            "text/plain": [
              "<Figure size 720x360 with 1 Axes>"
            ],
            "image/png": "[encoded data removed]"
          },
          "metadata": {
            "needs_background": "light"
          }
        }
      ]
    },
    {
      "cell_type": "markdown",
      "source": [
        "Some columns have a very high percentage of missing values and are most probably insignifcant to our models. We will drop them. Also SalePrice has half missing because the test dataset has no sale price. We will handle that as well."
      ],
      "metadata": {
        "id": "paf8zYdjFlSg"
      }
    },
    {
      "cell_type": "code",
      "source": [
        "# dropping columns with less than 2000 rows of data \n",
        "whole_dataset = whole_dataset.dropna(axis=1,thresh=2000)\n",
        "\n",
        "info_on_missing_values(whole_dataset) "
      ],
      "metadata": {
        "colab": {
          "base_uri": "https://localhost:8080/",
          "height": 959
        },
        "id": "pNIZTjS4M2xx",
        "outputId": "14aee37f-569d-4e06-f2e4-83a0f68df6ac",
        "collapsed": true
      },
      "execution_count": 9,
      "outputs": [
        {
          "output_type": "execute_result",
          "data": {
            "text/plain": [
              "              Total Missing Val  Percentage Data Type\n",
              "LotFrontage                 486       16.65   float64\n",
              "GarageQual                  159        5.45    object\n",
              "GarageYrBlt                 159        5.45   float64\n",
              "GarageFinish                159        5.45    object\n",
              "GarageCond                  159        5.45    object\n",
              "GarageType                  157        5.38    object\n",
              "BsmtExposure                 82        2.81    object\n",
              "BsmtCond                     82        2.81    object\n",
              "BsmtQual                     81        2.77    object\n",
              "BsmtFinType2                 80        2.74    object\n",
              "BsmtFinType1                 79        2.71    object\n",
              "MasVnrType                   24        0.82    object\n",
              "MasVnrArea                   23        0.79   float64\n",
              "MSZoning                      4        0.14    object\n",
              "Functional                    2        0.07    object\n",
              "BsmtHalfBath                  2        0.07   float64\n",
              "BsmtFullBath                  2        0.07   float64\n",
              "Utilities                     2        0.07    object\n",
              "GarageArea                    1        0.03   float64\n",
              "BsmtFinSF2                    1        0.03   float64\n",
              "BsmtFinSF1                    1        0.03   float64\n",
              "GarageCars                    1        0.03   float64\n",
              "TotalBsmtSF                   1        0.03   float64\n",
              "SaleType                      1        0.03    object\n",
              "KitchenQual                   1        0.03    object\n",
              "Electrical                    1        0.03    object\n",
              "Exterior2nd                   1        0.03    object\n",
              "Exterior1st                   1        0.03    object\n",
              "BsmtUnfSF                     1        0.03   float64"
            ],
            "text/html": [
              "\n",
              "  <div id=\"df-5cfd822b-e262-49db-bde9-6f7958919cb2\">\n",
              "    <div class=\"colab-df-container\">\n",
              "      <div>\n",
              "<style scoped>\n",
              "    .dataframe tbody tr th:only-of-type {\n",
              "        vertical-align: middle;\n",
              "    }\n",
              "\n",
              "    .dataframe tbody tr th {\n",
              "        vertical-align: top;\n",
              "    }\n",
              "\n",
              "    .dataframe thead th {\n",
              "        text-align: right;\n",
              "    }\n",
              "</style>\n",
              "<table border=\"1\" class=\"dataframe\">\n",
              "  <thead>\n",
              "    <tr style=\"text-align: right;\">\n",
              "      <th></th>\n",
              "      <th>Total Missing Val</th>\n",
              "      <th>Percentage</th>\n",
              "      <th>Data Type</th>\n",
              "    </tr>\n",
              "  </thead>\n",
              "  <tbody>\n",
              "    <tr>\n",
              "      <th>LotFrontage</th>\n",
              "      <td>486</td>\n",
              "      <td>16.65</td>\n",
              "      <td>float64</td>\n",
              "    </tr>\n",
              "    <tr>\n",
              "      <th>GarageQual</th>\n",
              "      <td>159</td>\n",
              "      <td>5.45</td>\n",
              "      <td>object</td>\n",
              "    </tr>\n",
              "    <tr>\n",
              "      <th>GarageYrBlt</th>\n",
              "      <td>159</td>\n",
              "      <td>5.45</td>\n",
              "      <td>float64</td>\n",
              "    </tr>\n",
              "    <tr>\n",
              "      <th>GarageFinish</th>\n",
              "      <td>159</td>\n",
              "      <td>5.45</td>\n",
              "      <td>object</td>\n",
              "    </tr>\n",
              "    <tr>\n",
              "      <th>GarageCond</th>\n",
              "      <td>159</td>\n",
              "      <td>5.45</td>\n",
              "      <td>object</td>\n",
              "    </tr>\n",
              "    <tr>\n",
              "      <th>GarageType</th>\n",
              "      <td>157</td>\n",
              "      <td>5.38</td>\n",
              "      <td>object</td>\n",
              "    </tr>\n",
              "    <tr>\n",
              "      <th>BsmtExposure</th>\n",
              "      <td>82</td>\n",
              "      <td>2.81</td>\n",
              "      <td>object</td>\n",
              "    </tr>\n",
              "    <tr>\n",
              "      <th>BsmtCond</th>\n",
              "      <td>82</td>\n",
              "      <td>2.81</td>\n",
              "      <td>object</td>\n",
              "    </tr>\n",
              "    <tr>\n",
              "      <th>BsmtQual</th>\n",
              "      <td>81</td>\n",
              "      <td>2.77</td>\n",
              "      <td>object</td>\n",
              "    </tr>\n",
              "    <tr>\n",
              "      <th>BsmtFinType2</th>\n",
              "      <td>80</td>\n",
              "      <td>2.74</td>\n",
              "      <td>object</td>\n",
              "    </tr>\n",
              "    <tr>\n",
              "      <th>BsmtFinType1</th>\n",
              "      <td>79</td>\n",
              "      <td>2.71</td>\n",
              "      <td>object</td>\n",
              "    </tr>\n",
              "    <tr>\n",
              "      <th>MasVnrType</th>\n",
              "      <td>24</td>\n",
              "      <td>0.82</td>\n",
              "      <td>object</td>\n",
              "    </tr>\n",
              "    <tr>\n",
              "      <th>MasVnrArea</th>\n",
              "      <td>23</td>\n",
              "      <td>0.79</td>\n",
              "      <td>float64</td>\n",
              "    </tr>\n",
              "    <tr>\n",
              "      <th>MSZoning</th>\n",
              "      <td>4</td>\n",
              "      <td>0.14</td>\n",
              "      <td>object</td>\n",
              "    </tr>\n",
              "    <tr>\n",
              "      <th>Functional</th>\n",
              "      <td>2</td>\n",
              "      <td>0.07</td>\n",
              "      <td>object</td>\n",
              "    </tr>\n",
              "    <tr>\n",
              "      <th>BsmtHalfBath</th>\n",
              "      <td>2</td>\n",
              "      <td>0.07</td>\n",
              "      <td>float64</td>\n",
              "    </tr>\n",
              "    <tr>\n",
              "      <th>BsmtFullBath</th>\n",
              "      <td>2</td>\n",
              "      <td>0.07</td>\n",
              "      <td>float64</td>\n",
              "    </tr>\n",
              "    <tr>\n",
              "      <th>Utilities</th>\n",
              "      <td>2</td>\n",
              "      <td>0.07</td>\n",
              "      <td>object</td>\n",
              "    </tr>\n",
              "    <tr>\n",
              "      <th>GarageArea</th>\n",
              "      <td>1</td>\n",
              "      <td>0.03</td>\n",
              "      <td>float64</td>\n",
              "    </tr>\n",
              "    <tr>\n",
              "      <th>BsmtFinSF2</th>\n",
              "      <td>1</td>\n",
              "      <td>0.03</td>\n",
              "      <td>float64</td>\n",
              "    </tr>\n",
              "    <tr>\n",
              "      <th>BsmtFinSF1</th>\n",
              "      <td>1</td>\n",
              "      <td>0.03</td>\n",
              "      <td>float64</td>\n",
              "    </tr>\n",
              "    <tr>\n",
              "      <th>GarageCars</th>\n",
              "      <td>1</td>\n",
              "      <td>0.03</td>\n",
              "      <td>float64</td>\n",
              "    </tr>\n",
              "    <tr>\n",
              "      <th>TotalBsmtSF</th>\n",
              "      <td>1</td>\n",
              "      <td>0.03</td>\n",
              "      <td>float64</td>\n",
              "    </tr>\n",
              "    <tr>\n",
              "      <th>SaleType</th>\n",
              "      <td>1</td>\n",
              "      <td>0.03</td>\n",
              "      <td>object</td>\n",
              "    </tr>\n",
              "    <tr>\n",
              "      <th>KitchenQual</th>\n",
              "      <td>1</td>\n",
              "      <td>0.03</td>\n",
              "      <td>object</td>\n",
              "    </tr>\n",
              "    <tr>\n",
              "      <th>Electrical</th>\n",
              "      <td>1</td>\n",
              "      <td>0.03</td>\n",
              "      <td>object</td>\n",
              "    </tr>\n",
              "    <tr>\n",
              "      <th>Exterior2nd</th>\n",
              "      <td>1</td>\n",
              "      <td>0.03</td>\n",
              "      <td>object</td>\n",
              "    </tr>\n",
              "    <tr>\n",
              "      <th>Exterior1st</th>\n",
              "      <td>1</td>\n",
              "      <td>0.03</td>\n",
              "      <td>object</td>\n",
              "    </tr>\n",
              "    <tr>\n",
              "      <th>BsmtUnfSF</th>\n",
              "      <td>1</td>\n",
              "      <td>0.03</td>\n",
              "      <td>float64</td>\n",
              "    </tr>\n",
              "  </tbody>\n",
              "</table>\n",
              "</div>\n",
              "      <button class=\"colab-df-convert\" onclick=\"convertToInteractive('df-5cfd822b-e262-49db-bde9-6f7958919cb2')\"\n",
              "              title=\"Convert this dataframe to an interactive table.\"\n",
              "              style=\"display:none;\">\n",
              "        \n",
              "  <svg xmlns=\"http://www.w3.org/2000/svg\" height=\"24px\"viewBox=\"0 0 24 24\"\n",
              "       width=\"24px\">\n",
              "    <path d=\"M0 0h24v24H0V0z\" fill=\"none\"/>\n",
              "    <path d=\"M18.56 5.44l.94 2.06.94-2.06 2.06-.94-2.06-.94-.94-2.06-.94 2.06-2.06.94zm-11 1L8.5 8.5l.94-2.06 2.06-.94-2.06-.94L8.5 2.5l-.94 2.06-2.06.94zm10 10l.94 2.06.94-2.06 2.06-.94-2.06-.94-.94-2.06-.94 2.06-2.06.94z\"/><path d=\"M17.41 7.96l-1.37-1.37c-.4-.4-.92-.59-1.43-.59-.52 0-1.04.2-1.43.59L10.3 9.45l-7.72 7.72c-.78.78-.78 2.05 0 2.83L4 21.41c.39.39.9.59 1.41.59.51 0 1.02-.2 1.41-.59l7.78-7.78 2.81-2.81c.8-.78.8-2.07 0-2.86zM5.41 20L4 18.59l7.72-7.72 1.47 1.35L5.41 20z\"/>\n",
              "  </svg>\n",
              "      </button>\n",
              "      \n",
              "  <style>\n",
              "    .colab-df-container {\n",
              "      display:flex;\n",
              "      flex-wrap:wrap;\n",
              "      gap: 12px;\n",
              "    }\n",
              "\n",
              "    .colab-df-convert {\n",
              "      background-color: #E8F0FE;\n",
              "      border: none;\n",
              "      border-radius: 50%;\n",
              "      cursor: pointer;\n",
              "      display: none;\n",
              "      fill: #1967D2;\n",
              "      height: 32px;\n",
              "      padding: 0 0 0 0;\n",
              "      width: 32px;\n",
              "    }\n",
              "\n",
              "    .colab-df-convert:hover {\n",
              "      background-color: #E2EBFA;\n",
              "      box-shadow: 0px 1px 2px rgba(60, 64, 67, 0.3), 0px 1px 3px 1px rgba(60, 64, 67, 0.15);\n",
              "      fill: #174EA6;\n",
              "    }\n",
              "\n",
              "    [theme=dark] .colab-df-convert {\n",
              "      background-color: #3B4455;\n",
              "      fill: #D2E3FC;\n",
              "    }\n",
              "\n",
              "    [theme=dark] .colab-df-convert:hover {\n",
              "      background-color: #434B5C;\n",
              "      box-shadow: 0px 1px 3px 1px rgba(0, 0, 0, 0.15);\n",
              "      filter: drop-shadow(0px 1px 2px rgba(0, 0, 0, 0.3));\n",
              "      fill: #FFFFFF;\n",
              "    }\n",
              "  </style>\n",
              "\n",
              "      <script>\n",
              "        const buttonEl =\n",
              "          document.querySelector('#df-5cfd822b-e262-49db-bde9-6f7958919cb2 button.colab-df-convert');\n",
              "        buttonEl.style.display =\n",
              "          google.colab.kernel.accessAllowed ? 'block' : 'none';\n",
              "\n",
              "        async function convertToInteractive(key) {\n",
              "          const element = document.querySelector('#df-5cfd822b-e262-49db-bde9-6f7958919cb2');\n",
              "          const dataTable =\n",
              "            await google.colab.kernel.invokeFunction('convertToInteractive',\n",
              "                                                     [key], {});\n",
              "          if (!dataTable) return;\n",
              "\n",
              "          const docLinkHtml = 'Like what you see? Visit the ' +\n",
              "            '<a target=\"_blank\" href=https://colab.research.google.com/notebooks/data_table.ipynb>data table notebook</a>'\n",
              "            + ' to learn more about interactive tables.';\n",
              "          element.innerHTML = '';\n",
              "          dataTable['output_type'] = 'display_data';\n",
              "          await google.colab.output.renderOutput(dataTable, element);\n",
              "          const docLink = document.createElement('div');\n",
              "          docLink.innerHTML = docLinkHtml;\n",
              "          element.appendChild(docLink);\n",
              "        }\n",
              "      </script>\n",
              "    </div>\n",
              "  </div>\n",
              "  "
            ]
          },
          "metadata": {},
          "execution_count": 9
        }
      ]
    },
    {
      "cell_type": "markdown",
      "source": [
        "The columns with high missing values hvae been dropped"
      ],
      "metadata": {
        "id": "u-hVAe4-Yf6K"
      }
    },
    {
      "cell_type": "markdown",
      "source": [
        "Some columns have only 4 missing values or less. We'll fill those missing columns with 0's or None depending on the data type of the column "
      ],
      "metadata": {
        "id": "lfzTAQFhZscL"
      }
    },
    {
      "cell_type": "code",
      "source": [
        "from pandas.core.internals.blocks import missing\n",
        "# making a list of columns with missing values\n",
        "missing_val_cols = whole_dataset.columns[whole_dataset.isna().any()]\n",
        "# filling columns with missing values less than 5 with 0 or None\n",
        "for col in missing_val_cols:\n",
        "    if whole_dataset[col].isnull().sum() <5:\n",
        "        if whole_dataset[col].dtype == 'object':\n",
        "            whole_dataset[col]= whole_dataset[col].fillna('None')\n",
        "        else:\n",
        "            whole_dataset[col] = whole_dataset[col].fillna(0)\n",
        "\n",
        "\n",
        "# making a new list of columns with missing values \n",
        "missing_val_cols_2 = whole_dataset.columns[whole_dataset.isna().any()]\n",
        "missing_val_cols_2"
      ],
      "metadata": {
        "id": "qBi8tj5XYvh9",
        "outputId": "b3f85678-c698-4ac6-e41b-96bd0ba1124d",
        "colab": {
          "base_uri": "https://localhost:8080/"
        }
      },
      "execution_count": 10,
      "outputs": [
        {
          "output_type": "execute_result",
          "data": {
            "text/plain": [
              "Index(['LotFrontage', 'MasVnrType', 'MasVnrArea', 'BsmtQual', 'BsmtCond',\n",
              "       'BsmtExposure', 'BsmtFinType1', 'BsmtFinType2', 'GarageType',\n",
              "       'GarageYrBlt', 'GarageFinish', 'GarageQual', 'GarageCond'],\n",
              "      dtype='object')"
            ]
          },
          "metadata": {},
          "execution_count": 10
        }
      ]
    },
    {
      "cell_type": "markdown",
      "source": [
        "#### Analysing each column with missing data "
      ],
      "metadata": {
        "id": "r4Y4LEPweO8k"
      }
    },
    {
      "cell_type": "markdown",
      "source": [
        "We have a list of columns left with missing data now we go throught them individually to decide what method to fill them with is the best "
      ],
      "metadata": {
        "id": "VysyrFLHe5Pu"
      }
    },
    {
      "cell_type": "code",
      "source": [
        "# FOR LOTFRONTAGE\n",
        "whole_dataset['LotFrontage'].describe()\n",
        "# no column has significant correlation with LotFrontage\n",
        "# assigning mean value to miss value for LotFrontage\n",
        "whole_dataset['LotFrontage'] = whole_dataset['LotFrontage'].fillna(whole_dataset['LotFrontage'].mean())\n"
      ],
      "metadata": {
        "id": "sArrPd_eYvw6"
      },
      "execution_count": 11,
      "outputs": []
    },
    {
      "cell_type": "code",
      "source": [
        "# for MasVnrType\n",
        "whole_dataset['MasVnrType'].describe()\n",
        "# none has the most frequency. i will use that to fill the missing data. \n",
        "whole_dataset['MasVnrType']= whole_dataset['MasVnrType'].fillna(whole_dataset['MasVnrType'].mode()[0])"
      ],
      "metadata": {
        "id": "p9YY3Yn8Yvzw"
      },
      "execution_count": 12,
      "outputs": []
    },
    {
      "cell_type": "code",
      "source": [
        "# for MasVnrArea\n",
        "whole_dataset['MasVnrArea'].describe()\n",
        "#assigning mode to MasVnrArea\n",
        "whole_dataset['MasVnrArea']= whole_dataset['MasVnrArea'].fillna(whole_dataset['MasVnrArea'].mode()[0])"
      ],
      "metadata": {
        "id": "tD5EWi5SsPyX"
      },
      "execution_count": 13,
      "outputs": []
    },
    {
      "cell_type": "code",
      "source": [
        "#for GarageYrBlt\n",
        "whole_dataset['GarageYrBlt'].describe()\n",
        "# Chekcing which column has most correlation with GarageYrBlt column\n",
        "# looking for correlation between gyb and other collumns\n",
        "\n",
        "#print(whole_dataset.corr()['GarageYrBlt'].nlargest(3))\n",
        "# There is significant coorelation between YearBuilt and GarageYrBlt \n",
        "# dropping GarageYrBlt         \n",
        "whole_dataset = whole_dataset.drop(['GarageYrBlt'],axis = 1)"
      ],
      "metadata": {
        "id": "tQzoJHaMYv2d"
      },
      "execution_count": 14,
      "outputs": []
    },
    {
      "cell_type": "code",
      "source": [
        "# for BsmtExposure\n",
        "whole_dataset['BsmtExposure'].describe()\n",
        "# filling with mode \n",
        "whole_dataset['BsmtExposure']= whole_dataset['BsmtExposure'].fillna(whole_dataset['BsmtExposure'].mode()[0])"
      ],
      "metadata": {
        "id": "Be3upGrErWO1"
      },
      "execution_count": 15,
      "outputs": []
    },
    {
      "cell_type": "markdown",
      "source": [
        "Some columns do not have missing values. They represent none as \"NA\". "
      ],
      "metadata": {
        "id": "lGs04UuvrEjG"
      }
    },
    {
      "cell_type": "markdown",
      "source": [
        "**Example of Column with such description**\n",
        "\n",
        "BsmtQual: Evaluates the height of the basement\n",
        "\n",
        "       Ex\tExcellent (100+ inches)\t\n",
        "       Gd\tGood (90-99 inches)\n",
        "       TA\tTypical (80-89 inches)\n",
        "       Fa\tFair (70-79 inches)\n",
        "       Po\tPoor (<70 inches)\n",
        "       NA\tNo Basement"
      ],
      "metadata": {
        "id": "9_xQSuK5HKDd"
      }
    },
    {
      "cell_type": "markdown",
      "source": [
        "We will replace NA with none"
      ],
      "metadata": {
        "id": "xS4NagonHcmZ"
      }
    },
    {
      "cell_type": "code",
      "source": [
        "# FOR BsmtQual\n",
        "whole_dataset['BsmtQual'].describe()\n",
        "# I WILL FILL WITH NONE BECAUSE ACCORDING TO THE DATA SET DESCRIPTION NA MEANS NONE\n",
        "whole_dataset['BsmtQual']= whole_dataset['BsmtQual'].fillna('None')\n",
        "\n",
        "# For BsmtCond\n",
        "whole_dataset['BsmtCond'].describe()\n",
        "# I WILL FILL WITH NONE BECAUSE ACCORDING TO THE DATA SET DESCRIPTION NA MEANS NONE\n",
        "whole_dataset['BsmtCond']= whole_dataset['BsmtCond'].fillna('None')\n",
        "\n",
        "\n",
        "#for BsmtFinType1\n",
        "whole_dataset['BsmtFinType1'].describe()\n",
        "# I WILL FILL WITH NONE BECAUSE ACCORDING TO THE DATA SET DESCRIPTION NA MEANS NONE\n",
        "whole_dataset['BsmtFinType1']= whole_dataset['BsmtFinType1'].fillna('None')\n",
        "\n",
        "# for BsmtFinType2\n",
        "whole_dataset['BsmtFinType2'].describe()\n",
        "# I WILL FILL WITH NONE BECAUSE ACCORDING TO THE DATA SET DESCRIPTION NA MEANS NONE\n",
        "whole_dataset['BsmtFinType2']= whole_dataset['BsmtFinType2'].fillna('None')\n",
        "\n",
        "\n",
        "# for GarageType\n",
        "whole_dataset['GarageType'].describe()\n",
        "# I WILL FILL WITH NONE BECAUSE ACCORDING TO THE DATA SET DESCRIPTION NA MEANS NONE\n",
        "whole_dataset['GarageType']= whole_dataset['GarageType'].fillna('None')\n",
        "\n",
        "\n",
        "\n",
        "# for GarageFinish\n",
        "# I WILL FILL WITH NONE BECAUSE ACCORDING TO THE DATA SET DESCRIPTION NA MEANS NONE\n",
        "whole_dataset['GarageFinish']= whole_dataset['GarageFinish'].fillna('None')\n",
        "\n",
        "\n",
        "# for GarageQual\n",
        "# I WILL FILL WITH NONE BECAUSE ACCORDING TO THE DATA SET DESCRIPTION NA MEANS NONE\n",
        "whole_dataset['GarageQual']= whole_dataset['GarageQual'].fillna('None')\n",
        "\n",
        "\n",
        "# for GarageCond\n",
        "# I WILL FILL WITH NONE BECAUSE ACCORDING TO THE DATA SET DESCRIPTION NA MEANS NONE\n",
        "whole_dataset['GarageCond']= whole_dataset['GarageCond'].fillna('None')"
      ],
      "metadata": {
        "id": "XSNQVngGYv5G"
      },
      "execution_count": 16,
      "outputs": []
    },
    {
      "cell_type": "code",
      "source": [
        "# checking for columns with missing values\n",
        "info_on_missing_values(whole_dataset)"
      ],
      "metadata": {
        "id": "hiSFpZItYv8f",
        "outputId": "b40cfcae-9aaf-4a92-9a5f-db1cc2a28abe",
        "colab": {
          "base_uri": "https://localhost:8080/",
          "height": 49
        }
      },
      "execution_count": 17,
      "outputs": [
        {
          "output_type": "execute_result",
          "data": {
            "text/plain": [
              "Empty DataFrame\n",
              "Columns: [Total Missing Val, Percentage, Data Type]\n",
              "Index: []"
            ],
            "text/html": [
              "\n",
              "  <div id=\"df-d751d93d-c34b-4207-aa65-80c65016aef0\">\n",
              "    <div class=\"colab-df-container\">\n",
              "      <div>\n",
              "<style scoped>\n",
              "    .dataframe tbody tr th:only-of-type {\n",
              "        vertical-align: middle;\n",
              "    }\n",
              "\n",
              "    .dataframe tbody tr th {\n",
              "        vertical-align: top;\n",
              "    }\n",
              "\n",
              "    .dataframe thead th {\n",
              "        text-align: right;\n",
              "    }\n",
              "</style>\n",
              "<table border=\"1\" class=\"dataframe\">\n",
              "  <thead>\n",
              "    <tr style=\"text-align: right;\">\n",
              "      <th></th>\n",
              "      <th>Total Missing Val</th>\n",
              "      <th>Percentage</th>\n",
              "      <th>Data Type</th>\n",
              "    </tr>\n",
              "  </thead>\n",
              "  <tbody>\n",
              "  </tbody>\n",
              "</table>\n",
              "</div>\n",
              "      <button class=\"colab-df-convert\" onclick=\"convertToInteractive('df-d751d93d-c34b-4207-aa65-80c65016aef0')\"\n",
              "              title=\"Convert this dataframe to an interactive table.\"\n",
              "              style=\"display:none;\">\n",
              "        \n",
              "  <svg xmlns=\"http://www.w3.org/2000/svg\" height=\"24px\"viewBox=\"0 0 24 24\"\n",
              "       width=\"24px\">\n",
              "    <path d=\"M0 0h24v24H0V0z\" fill=\"none\"/>\n",
              "    <path d=\"M18.56 5.44l.94 2.06.94-2.06 2.06-.94-2.06-.94-.94-2.06-.94 2.06-2.06.94zm-11 1L8.5 8.5l.94-2.06 2.06-.94-2.06-.94L8.5 2.5l-.94 2.06-2.06.94zm10 10l.94 2.06.94-2.06 2.06-.94-2.06-.94-.94-2.06-.94 2.06-2.06.94z\"/><path d=\"M17.41 7.96l-1.37-1.37c-.4-.4-.92-.59-1.43-.59-.52 0-1.04.2-1.43.59L10.3 9.45l-7.72 7.72c-.78.78-.78 2.05 0 2.83L4 21.41c.39.39.9.59 1.41.59.51 0 1.02-.2 1.41-.59l7.78-7.78 2.81-2.81c.8-.78.8-2.07 0-2.86zM5.41 20L4 18.59l7.72-7.72 1.47 1.35L5.41 20z\"/>\n",
              "  </svg>\n",
              "      </button>\n",
              "      \n",
              "  <style>\n",
              "    .colab-df-container {\n",
              "      display:flex;\n",
              "      flex-wrap:wrap;\n",
              "      gap: 12px;\n",
              "    }\n",
              "\n",
              "    .colab-df-convert {\n",
              "      background-color: #E8F0FE;\n",
              "      border: none;\n",
              "      border-radius: 50%;\n",
              "      cursor: pointer;\n",
              "      display: none;\n",
              "      fill: #1967D2;\n",
              "      height: 32px;\n",
              "      padding: 0 0 0 0;\n",
              "      width: 32px;\n",
              "    }\n",
              "\n",
              "    .colab-df-convert:hover {\n",
              "      background-color: #E2EBFA;\n",
              "      box-shadow: 0px 1px 2px rgba(60, 64, 67, 0.3), 0px 1px 3px 1px rgba(60, 64, 67, 0.15);\n",
              "      fill: #174EA6;\n",
              "    }\n",
              "\n",
              "    [theme=dark] .colab-df-convert {\n",
              "      background-color: #3B4455;\n",
              "      fill: #D2E3FC;\n",
              "    }\n",
              "\n",
              "    [theme=dark] .colab-df-convert:hover {\n",
              "      background-color: #434B5C;\n",
              "      box-shadow: 0px 1px 3px 1px rgba(0, 0, 0, 0.15);\n",
              "      filter: drop-shadow(0px 1px 2px rgba(0, 0, 0, 0.3));\n",
              "      fill: #FFFFFF;\n",
              "    }\n",
              "  </style>\n",
              "\n",
              "      <script>\n",
              "        const buttonEl =\n",
              "          document.querySelector('#df-d751d93d-c34b-4207-aa65-80c65016aef0 button.colab-df-convert');\n",
              "        buttonEl.style.display =\n",
              "          google.colab.kernel.accessAllowed ? 'block' : 'none';\n",
              "\n",
              "        async function convertToInteractive(key) {\n",
              "          const element = document.querySelector('#df-d751d93d-c34b-4207-aa65-80c65016aef0');\n",
              "          const dataTable =\n",
              "            await google.colab.kernel.invokeFunction('convertToInteractive',\n",
              "                                                     [key], {});\n",
              "          if (!dataTable) return;\n",
              "\n",
              "          const docLinkHtml = 'Like what you see? Visit the ' +\n",
              "            '<a target=\"_blank\" href=https://colab.research.google.com/notebooks/data_table.ipynb>data table notebook</a>'\n",
              "            + ' to learn more about interactive tables.';\n",
              "          element.innerHTML = '';\n",
              "          dataTable['output_type'] = 'display_data';\n",
              "          await google.colab.output.renderOutput(dataTable, element);\n",
              "          const docLink = document.createElement('div');\n",
              "          docLink.innerHTML = docLinkHtml;\n",
              "          element.appendChild(docLink);\n",
              "        }\n",
              "      </script>\n",
              "    </div>\n",
              "  </div>\n",
              "  "
            ]
          },
          "metadata": {},
          "execution_count": 17
        }
      ]
    },
    {
      "cell_type": "markdown",
      "source": [
        "HURRAY WE HAVE HANDLED ALL THE COLUMNS WITH MISSING VALUES"
      ],
      "metadata": {
        "id": "IFfgnCI0soYF"
      }
    },
    {
      "cell_type": "markdown",
      "source": [
        "### Handling numerical columns"
      ],
      "metadata": {
        "id": "6zvN3g1v4XNN"
      }
    },
    {
      "cell_type": "markdown",
      "source": [
        "One assumption for linear regression is that variables are independent. We will go through the dataset and check for columns that have high correlation"
      ],
      "metadata": {
        "id": "a5HXNPDS48RY"
      }
    },
    {
      "cell_type": "code",
      "source": [
        "#Correlation map to see how features are correlated with each other\n",
        "corrmat = whole_dataset.corr()\n",
        "plt.subplots(figsize=(12,9))\n",
        "sns.heatmap(corrmat, vmax=0.9, square=True)"
      ],
      "metadata": {
        "collapsed": true,
        "id": "8RP9bM7OIG4g",
        "outputId": "cbec4e6a-6f81-4b91-d1f7-5215d6562b74",
        "colab": {
          "base_uri": "https://localhost:8080/",
          "height": 620
        }
      },
      "execution_count": 18,
      "outputs": [
        {
          "output_type": "execute_result",
          "data": {
            "text/plain": [
              "<matplotlib.axes._subplots.AxesSubplot at 0x7f403885d610>"
            ]
          },
          "metadata": {},
          "execution_count": 18
        },
        {
          "output_type": "display_data",
          "data": {
            "text/plain": [
              "<Figure size 864x648 with 2 Axes>"
            ],
            "image/png": "[encoded data removed]"
          },
          "metadata": {
            "needs_background": "light"
          }
        }
      ]
    },
    {
      "cell_type": "markdown",
      "source": [
        "The plot isn't really helpful. We will create a correlation matrix instead and deduce the column with high correlation\n",
        "\n"
      ],
      "metadata": {
        "id": "mCMcJF9AIT_5"
      }
    },
    {
      "cell_type": "code",
      "source": [
        "# Create correlation matrix\n",
        "corr_matrix = whole_dataset.corr().abs()\n",
        "\n",
        "# Select upper triangle of correlation matrix\n",
        "upper = corr_matrix.where(np.triu(np.ones(corr_matrix.shape), k=1).astype(np.bool))\n",
        "\n",
        "# Find index of feature columns with correlation greater than 0.85 and put them in a list\n",
        "to_drop = [column for column in upper.columns if any(upper[column] > 0.85)]\n",
        "#whole_dataset.drop(to_drop,axis=1)\n",
        "to_drop"
      ],
      "metadata": {
        "id": "4XMCEAXq4dOJ",
        "outputId": "edc89580-224f-44cf-a838-0d6105d043ea",
        "colab": {
          "base_uri": "https://localhost:8080/"
        }
      },
      "execution_count": 19,
      "outputs": [
        {
          "output_type": "stream",
          "name": "stderr",
          "text": [
            "/usr/local/lib/python3.7/dist-packages/ipykernel_launcher.py:5: DeprecationWarning: `np.bool` is a deprecated alias for the builtin `bool`. To silence this warning, use `bool` by itself. Doing this will not modify any behavior and is safe. If you specifically wanted the numpy scalar type, use `np.bool_` here.\n",
            "Deprecated in NumPy 1.20; for more details and guidance: https://numpy.org/devdocs/release/1.20.0-notes.html#deprecations\n",
            "  \"\"\"\n"
          ]
        },
        {
          "output_type": "execute_result",
          "data": {
            "text/plain": [
              "['GarageArea']"
            ]
          },
          "metadata": {},
          "execution_count": 19
        }
      ]
    },
    {
      "cell_type": "code",
      "source": [
        "# checking column that has high correlation with Garage Area\n",
        "whole_dataset.corr()['GarageArea'].nlargest(3)"
      ],
      "metadata": {
        "collapsed": true,
        "id": "ZpvsresI4dhz",
        "outputId": "7e4df8c9-3e21-4090-b237-b6d5cecb2537",
        "colab": {
          "base_uri": "https://localhost:8080/"
        }
      },
      "execution_count": 20,
      "outputs": [
        {
          "output_type": "execute_result",
          "data": {
            "text/plain": [
              "GarageArea     1.000000\n",
              "GarageCars     0.889890\n",
              "OverallQual    0.565179\n",
              "Name: GarageArea, dtype: float64"
            ]
          },
          "metadata": {},
          "execution_count": 20
        }
      ]
    },
    {
      "cell_type": "markdown",
      "source": [
        "This shows that Garage Area and Garage Cars have a high correlation\n",
        "\n",
        "```\n",
        "GarageCars: Size of garage in car capacity\n",
        "\n",
        "GarageArea: Size of garage in square feet\n",
        "\n",
        "```\n",
        "From the description we can see most times the garage area and the size of garage in car capacity are either the same or as the car size space increases the garage area increases as well"
      ],
      "metadata": {
        "id": "K3St7mrW_Qs3"
      }
    },
    {
      "cell_type": "code",
      "source": [
        "# dropping garage cars\n",
        "whole_dataset = whole_dataset.drop('GarageCars',axis=1)"
      ],
      "metadata": {
        "id": "0FO5xh0k__vh"
      },
      "execution_count": 21,
      "outputs": []
    },
    {
      "cell_type": "markdown",
      "source": [
        "### Handling non-numerical columns"
      ],
      "metadata": {
        "id": "2kwHXlCiv_m3"
      }
    },
    {
      "cell_type": "markdown",
      "source": [
        "There are columns with categorical data which need to be worked on before inserting into the model."
      ],
      "metadata": {
        "id": "ireCzob_wdAc"
      }
    },
    {
      "cell_type": "markdown",
      "source": [
        "After going through the data description, Some columns have ordinal data and others have nominal data."
      ],
      "metadata": {
        "id": "jJvKwXwswyKy"
      }
    },
    {
      "cell_type": "markdown",
      "source": [
        "**Nominal Data**\n",
        "```\n",
        "Foundation: Type of foundation\n",
        "\t\t\n",
        "       BrkTil\tBrick & Tile\n",
        "       CBlock\tCinder Block\n",
        "       PConc\tPoured Contrete\t\n",
        "       Slab\tSlab\n",
        "       Stone\tStone\n",
        "       Wood\tWood\n",
        "````\n",
        "**Ordinal Data**\n",
        "```\n",
        "BsmtQual: Evaluates the height of the basement\n",
        "\n",
        "       Ex\tExcellent (100+ inches)\t\n",
        "       Gd\tGood (90-99 inches)\n",
        "       TA\tTypical (80-89 inches)\n",
        "       Fa\tFair (70-79 inches)\n",
        "       Po\tPoor (<70 inches\n",
        "       NA\tNo Basement\n",
        "\n",
        "```"
      ],
      "metadata": {
        "id": "43LYU-Bay1d-"
      }
    },
    {
      "cell_type": "markdown",
      "source": [
        "I have gone through the data description and created a list of columns with nonimal ordinal data"
      ],
      "metadata": {
        "id": "WIQf8nyVKOd8"
      }
    },
    {
      "cell_type": "markdown",
      "source": [
        "#### Nominal data"
      ],
      "metadata": {
        "id": "rEp5--MJ0Ifq"
      }
    },
    {
      "cell_type": "code",
      "source": [
        "# This is a list of columns with nominal data \n",
        "categorical_columns = ['MSZoning','Street','LotShape','LandContour',\n",
        "'Utilities','LotConfig','LandSlope','Neighborhood','Condition1',\n",
        "'Condition2','BldgType','HouseStyle','RoofStyle','RoofMatl','Exterior1st',\n",
        "'Exterior2nd','MasVnrType','Foundation','Heating','CentralAir',\n",
        "'Electrical','Functional','GarageType','GarageFinish','PavedDrive','SaleType','SaleCondition']\n",
        "\n",
        "\n",
        "# for categorical data the goal is to transpose the dataset for each category of each column and attach binary values \n",
        "whole_dataset = pd.get_dummies(whole_dataset, prefix=categorical_columns, columns=categorical_columns)\n",
        "whole_dataset.shape"
      ],
      "metadata": {
        "id": "4WDiF4BwwGyo",
        "outputId": "ad6fef56-835d-4123-cd0e-6f04faa23ce4",
        "colab": {
          "base_uri": "https://localhost:8080/"
        }
      },
      "execution_count": 22,
      "outputs": [
        {
          "output_type": "execute_result",
          "data": {
            "text/plain": [
              "(2919, 236)"
            ]
          },
          "metadata": {},
          "execution_count": 22
        }
      ]
    },
    {
      "cell_type": "markdown",
      "source": [
        "#### Ordinal data\n"
      ],
      "metadata": {
        "id": "ycqDsUbV0WAC"
      }
    },
    {
      "cell_type": "code",
      "source": [
        "\n",
        "# This is a list of columns with ordinal data\n",
        "ordinal_columns = ['OverallQual','OverallCond','ExterQual','ExterCond',\n",
        "'BsmtQual','BsmtCond','BsmtExposure','BsmtFinType1','BsmtFinType2',\n",
        "'HeatingQC','KitchenQual','GarageCond','GarageQual']\n",
        "\n",
        "# for columns with ordinal data, the solution is to use a label encoder to attach numbers to each level\n",
        "# the label encoder object\n",
        "from sklearn import preprocessing\n",
        "le = preprocessing.LabelEncoder()\n",
        "\n",
        "for col in ordinal_columns:\n",
        "    whole_dataset[col]=le.fit_transform(whole_dataset[col])\n",
        "\n",
        "whole_dataset.dtype=\"object\""
      ],
      "metadata": {
        "id": "EEDMqsNSwHh3"
      },
      "execution_count": 23,
      "outputs": []
    },
    {
      "cell_type": "markdown",
      "source": [
        "All columns with object data types have been changed to numeric values"
      ],
      "metadata": {
        "id": "BxFYaBC-p6u9"
      }
    },
    {
      "cell_type": "markdown",
      "source": [
        "## Modelling"
      ],
      "metadata": {
        "id": "bkzJOfLVFT_N"
      }
    },
    {
      "cell_type": "markdown",
      "source": [
        "We are going to use a linear regression to build this model"
      ],
      "metadata": {
        "id": "fxY95wPZKar7"
      }
    },
    {
      "cell_type": "markdown",
      "source": [
        "### First Model"
      ],
      "metadata": {
        "id": "tqpZmCt2FrOH"
      }
    },
    {
      "cell_type": "markdown",
      "source": [
        "Remember we combined both test and train dataset for data processing, we will split them for our modelling"
      ],
      "metadata": {
        "id": "NAfDLrcFLBbW"
      }
    },
    {
      "cell_type": "code",
      "source": [
        "# spilt the dataset into the original train and test set again\n",
        "true_train_dataset = whole_dataset[:1460] \n",
        " \n",
        "true_test_dataset = whole_dataset[1460:] \n",
        "\n",
        "# assigning the target variable to Y\n",
        "Y = train_dataset['SalePrice']\n"
      ],
      "metadata": {
        "id": "OJUCrSPvFXo8"
      },
      "execution_count": 24,
      "outputs": []
    },
    {
      "cell_type": "code",
      "source": [
        "# Running linear regression using all the variables\n",
        "model = LinearRegression()\n",
        "\n",
        "print(\"Running Linear Regression using all variables...\")\n",
        "\n",
        "\n",
        "model.fit(true_train_dataset, Y)\n",
        "\n",
        "list_of_col = true_train_dataset.columns.to_list()\n",
        "\n",
        "\n",
        "print(\"\")\n",
        "# using cross validation to check the accuracy of the model\n",
        "k_folds = KFold(n_splits = 4)\n",
        "\n",
        "scores = cross_val_score(model, true_train_dataset, Y, cv = k_folds)\n",
        "\n",
        "print(\"Cross Validation Scores: \", scores)\n",
        "print(\"Average CV Score: \", scores.mean())\n",
        "print(\"Number of CV Scores used in Average: \", len(scores))\n",
        "\n",
        "print(\"\")\n",
        "\n",
        "data_coef = pd.Series(index=list_of_col, data=model.coef_)\n",
        "\n",
        "coef_order = data_coef.abs().sort_values(ascending=False).index.tolist()\n",
        "\n",
        "        \n",
        "print('-------Top 10 Features with high estimates ---------')\n",
        "print(data_coef[coef_order][:10])"
      ],
      "metadata": {
        "id": "rvlTWbkHFYKi",
        "outputId": "19de6245-4f6d-46dd-b754-4c89e1ca0839",
        "colab": {
          "base_uri": "https://localhost:8080/"
        }
      },
      "execution_count": 31,
      "outputs": [
        {
          "output_type": "stream",
          "name": "stdout",
          "text": [
            "Running Linear Regression using all variables...\n",
            "\n",
            "Cross Validation Scores:  [0.89017747 0.87450465 0.8608101  0.77844365]\n",
            "Average CV Score:  0.8509839658563594\n",
            "Number of CV Scores used in Average:  4\n",
            "\n",
            "-------Top 10 Features with high estimates ---------\n",
            "RoofMatl_ClyTile   -2.441109\n",
            "Condition2_PosN    -0.716871\n",
            "RoofMatl_Membran    0.637558\n",
            "RoofMatl_Metal      0.455063\n",
            "Condition2_PosA     0.373428\n",
            "RoofMatl_WdShngl    0.369435\n",
            "Condition2_RRAe    -0.368398\n",
            "RoofStyle_Shed      0.343327\n",
            "MSZoning_C (all)   -0.334841\n",
            "RoofMatl_Roll       0.285220\n",
            "dtype: float64\n"
          ]
        }
      ]
    },
    {
      "cell_type": "markdown",
      "source": [
        "The model is doing terrible :(\n",
        "\n",
        "After using all the features the model did poorly and because we have a lot of features we would need to choose only the features that actually help us with predicting our target."
      ],
      "metadata": {
        "id": "j5x8kWwCPNPR"
      }
    },
    {
      "cell_type": "markdown",
      "source": [
        "### Feature Selection"
      ],
      "metadata": {
        "id": "bdoFe1Q_ihNW"
      }
    },
    {
      "cell_type": "markdown",
      "source": [
        "I am using backward elimination method. We use all the features to the model then remove the worst performing feature using the p_value untill the performance of the model is good.\n",
        "\n",
        "\n"
      ],
      "metadata": {
        "id": "vXej05HzjTqn"
      }
    },
    {
      "cell_type": "markdown",
      "source": [
        "Step 1 of backward elimination "
      ],
      "metadata": {
        "id": "1i0jZuIYMZF5"
      }
    },
    {
      "cell_type": "code",
      "source": [
        "# checking the max p_value from the first model with all the features\n",
        "\n",
        "#Adding constant column of ones, mandatory for sm.OLS model\n",
        "X_1 = sm.add_constant(true_train_dataset)\n",
        "#Fitting sm.OLS model\n",
        "model_ols = sm.OLS(Y,X_1).fit()\n",
        "t = pd.DataFrame()\n",
        "t['pvalue'] = model_ols.pvalues\n",
        "t[t['pvalue'] == max(t['pvalue'])]\n"
      ],
      "metadata": {
        "id": "ck0MelJ4f_xE",
        "outputId": "c3b237a3-a4a6-478f-e225-1b409b91b36c",
        "colab": {
          "base_uri": "https://localhost:8080/",
          "height": 135
        }
      },
      "execution_count": 32,
      "outputs": [
        {
          "output_type": "stream",
          "name": "stderr",
          "text": [
            "/usr/local/lib/python3.7/dist-packages/statsmodels/tsa/tsatools.py:142: FutureWarning: In a future version of pandas all arguments of concat except for the argument 'objs' will be keyword-only\n",
            "  x = pd.concat(x[::order], 1)\n"
          ]
        },
        {
          "output_type": "execute_result",
          "data": {
            "text/plain": [
              "                     pvalue\n",
              "Exterior2nd_Other  0.861116"
            ],
            "text/html": [
              "\n",
              "  <div id=\"df-423c418c-4a5a-493f-a7ca-2bfff37d11f7\">\n",
              "    <div class=\"colab-df-container\">\n",
              "      <div>\n",
              "<style scoped>\n",
              "    .dataframe tbody tr th:only-of-type {\n",
              "        vertical-align: middle;\n",
              "    }\n",
              "\n",
              "    .dataframe tbody tr th {\n",
              "        vertical-align: top;\n",
              "    }\n",
              "\n",
              "    .dataframe thead th {\n",
              "        text-align: right;\n",
              "    }\n",
              "</style>\n",
              "<table border=\"1\" class=\"dataframe\">\n",
              "  <thead>\n",
              "    <tr style=\"text-align: right;\">\n",
              "      <th></th>\n",
              "      <th>pvalue</th>\n",
              "    </tr>\n",
              "  </thead>\n",
              "  <tbody>\n",
              "    <tr>\n",
              "      <th>Exterior2nd_Other</th>\n",
              "      <td>0.861116</td>\n",
              "    </tr>\n",
              "  </tbody>\n",
              "</table>\n",
              "</div>\n",
              "      <button class=\"colab-df-convert\" onclick=\"convertToInteractive('df-423c418c-4a5a-493f-a7ca-2bfff37d11f7')\"\n",
              "              title=\"Convert this dataframe to an interactive table.\"\n",
              "              style=\"display:none;\">\n",
              "        \n",
              "  <svg xmlns=\"http://www.w3.org/2000/svg\" height=\"24px\"viewBox=\"0 0 24 24\"\n",
              "       width=\"24px\">\n",
              "    <path d=\"M0 0h24v24H0V0z\" fill=\"none\"/>\n",
              "    <path d=\"M18.56 5.44l.94 2.06.94-2.06 2.06-.94-2.06-.94-.94-2.06-.94 2.06-2.06.94zm-11 1L8.5 8.5l.94-2.06 2.06-.94-2.06-.94L8.5 2.5l-.94 2.06-2.06.94zm10 10l.94 2.06.94-2.06 2.06-.94-2.06-.94-.94-2.06-.94 2.06-2.06.94z\"/><path d=\"M17.41 7.96l-1.37-1.37c-.4-.4-.92-.59-1.43-.59-.52 0-1.04.2-1.43.59L10.3 9.45l-7.72 7.72c-.78.78-.78 2.05 0 2.83L4 21.41c.39.39.9.59 1.41.59.51 0 1.02-.2 1.41-.59l7.78-7.78 2.81-2.81c.8-.78.8-2.07 0-2.86zM5.41 20L4 18.59l7.72-7.72 1.47 1.35L5.41 20z\"/>\n",
              "  </svg>\n",
              "      </button>\n",
              "      \n",
              "  <style>\n",
              "    .colab-df-container {\n",
              "      display:flex;\n",
              "      flex-wrap:wrap;\n",
              "      gap: 12px;\n",
              "    }\n",
              "\n",
              "    .colab-df-convert {\n",
              "      background-color: #E8F0FE;\n",
              "      border: none;\n",
              "      border-radius: 50%;\n",
              "      cursor: pointer;\n",
              "      display: none;\n",
              "      fill: #1967D2;\n",
              "      height: 32px;\n",
              "      padding: 0 0 0 0;\n",
              "      width: 32px;\n",
              "    }\n",
              "\n",
              "    .colab-df-convert:hover {\n",
              "      background-color: #E2EBFA;\n",
              "      box-shadow: 0px 1px 2px rgba(60, 64, 67, 0.3), 0px 1px 3px 1px rgba(60, 64, 67, 0.15);\n",
              "      fill: #174EA6;\n",
              "    }\n",
              "\n",
              "    [theme=dark] .colab-df-convert {\n",
              "      background-color: #3B4455;\n",
              "      fill: #D2E3FC;\n",
              "    }\n",
              "\n",
              "    [theme=dark] .colab-df-convert:hover {\n",
              "      background-color: #434B5C;\n",
              "      box-shadow: 0px 1px 3px 1px rgba(0, 0, 0, 0.15);\n",
              "      filter: drop-shadow(0px 1px 2px rgba(0, 0, 0, 0.3));\n",
              "      fill: #FFFFFF;\n",
              "    }\n",
              "  </style>\n",
              "\n",
              "      <script>\n",
              "        const buttonEl =\n",
              "          document.querySelector('#df-423c418c-4a5a-493f-a7ca-2bfff37d11f7 button.colab-df-convert');\n",
              "        buttonEl.style.display =\n",
              "          google.colab.kernel.accessAllowed ? 'block' : 'none';\n",
              "\n",
              "        async function convertToInteractive(key) {\n",
              "          const element = document.querySelector('#df-423c418c-4a5a-493f-a7ca-2bfff37d11f7');\n",
              "          const dataTable =\n",
              "            await google.colab.kernel.invokeFunction('convertToInteractive',\n",
              "                                                     [key], {});\n",
              "          if (!dataTable) return;\n",
              "\n",
              "          const docLinkHtml = 'Like what you see? Visit the ' +\n",
              "            '<a target=\"_blank\" href=https://colab.research.google.com/notebooks/data_table.ipynb>data table notebook</a>'\n",
              "            + ' to learn more about interactive tables.';\n",
              "          element.innerHTML = '';\n",
              "          dataTable['output_type'] = 'display_data';\n",
              "          await google.colab.output.renderOutput(dataTable, element);\n",
              "          const docLink = document.createElement('div');\n",
              "          docLink.innerHTML = docLinkHtml;\n",
              "          element.appendChild(docLink);\n",
              "        }\n",
              "      </script>\n",
              "    </div>\n",
              "  </div>\n",
              "  "
            ]
          },
          "metadata": {},
          "execution_count": 32
        }
      ]
    },
    {
      "cell_type": "markdown",
      "source": [
        "The next step is to drop the column and rerun the model without that column"
      ],
      "metadata": {
        "id": "io7c5_H3klRs"
      }
    },
    {
      "cell_type": "code",
      "source": [
        "# This loop reiterates through the dataset and drops columns with high p_values until the model is good \n",
        "#Backward Elimination\n",
        "features = list(true_train_dataset.columns)\n",
        "pmax = 1\n",
        "while (len(features)>0):\n",
        "    verbose = False\n",
        "    p= []\n",
        "    X_1 = true_train_dataset[features]\n",
        "    X_1 = sm.add_constant(X_1)\n",
        "    model3 = sm.OLS(Y,X_1).fit()\n",
        "    p = pd.Series(model3.pvalues.values[1:],index = features)      \n",
        "    pmax = max(p)\n",
        "    feature_with_p_max = p.idxmax()\n",
        "    if(pmax>0.05):\n",
        "        features.remove(feature_with_p_max)\n",
        "    else:\n",
        "        break\n",
        "\n",
        "# list of selected features using backward elimation        \n",
        "selected_features_BE = features"
      ],
      "metadata": {
        "collapsed": true,
        "id": "gbRKV4e1Y1Gv",
        "outputId": "cc4094a5-f7e8-4c78-8db6-1e705b1c8ce9",
        "colab": {
          "base_uri": "https://localhost:8080/"
        }
      },
      "execution_count": 33,
      "outputs": [
        {
          "output_type": "stream",
          "name": "stderr",
          "text": [
            "/usr/local/lib/python3.7/dist-packages/statsmodels/tsa/tsatools.py:142: FutureWarning: In a future version of pandas all arguments of concat except for the argument 'objs' will be keyword-only\n",
            "  x = pd.concat(x[::order], 1)\n",
            "/usr/local/lib/python3.7/dist-packages/statsmodels/tsa/tsatools.py:142: FutureWarning: In a future version of pandas all arguments of concat except for the argument 'objs' will be keyword-only\n",
            "  x = pd.concat(x[::order], 1)\n",
            "/usr/local/lib/python3.7/dist-packages/statsmodels/tsa/tsatools.py:142: FutureWarning: In a future version of pandas all arguments of concat except for the argument 'objs' will be keyword-only\n",
            "  x = pd.concat(x[::order], 1)\n",
            "/usr/local/lib/python3.7/dist-packages/statsmodels/tsa/tsatools.py:142: FutureWarning: In a future version of pandas all arguments of concat except for the argument 'objs' will be keyword-only\n",
            "  x = pd.concat(x[::order], 1)\n",
            "/usr/local/lib/python3.7/dist-packages/statsmodels/tsa/tsatools.py:142: FutureWarning: In a future version of pandas all arguments of concat except for the argument 'objs' will be keyword-only\n",
            "  x = pd.concat(x[::order], 1)\n",
            "/usr/local/lib/python3.7/dist-packages/statsmodels/tsa/tsatools.py:142: FutureWarning: In a future version of pandas all arguments of concat except for the argument 'objs' will be keyword-only\n",
            "  x = pd.concat(x[::order], 1)\n",
            "/usr/local/lib/python3.7/dist-packages/statsmodels/tsa/tsatools.py:142: FutureWarning: In a future version of pandas all arguments of concat except for the argument 'objs' will be keyword-only\n",
            "  x = pd.concat(x[::order], 1)\n",
            "/usr/local/lib/python3.7/dist-packages/statsmodels/tsa/tsatools.py:142: FutureWarning: In a future version of pandas all arguments of concat except for the argument 'objs' will be keyword-only\n",
            "  x = pd.concat(x[::order], 1)\n",
            "/usr/local/lib/python3.7/dist-packages/statsmodels/tsa/tsatools.py:142: FutureWarning: In a future version of pandas all arguments of concat except for the argument 'objs' will be keyword-only\n",
            "  x = pd.concat(x[::order], 1)\n",
            "/usr/local/lib/python3.7/dist-packages/statsmodels/tsa/tsatools.py:142: FutureWarning: In a future version of pandas all arguments of concat except for the argument 'objs' will be keyword-only\n",
            "  x = pd.concat(x[::order], 1)\n",
            "/usr/local/lib/python3.7/dist-packages/statsmodels/tsa/tsatools.py:142: FutureWarning: In a future version of pandas all arguments of concat except for the argument 'objs' will be keyword-only\n",
            "  x = pd.concat(x[::order], 1)\n",
            "/usr/local/lib/python3.7/dist-packages/statsmodels/tsa/tsatools.py:142: FutureWarning: In a future version of pandas all arguments of concat except for the argument 'objs' will be keyword-only\n",
            "  x = pd.concat(x[::order], 1)\n",
            "/usr/local/lib/python3.7/dist-packages/statsmodels/tsa/tsatools.py:142: FutureWarning: In a future version of pandas all arguments of concat except for the argument 'objs' will be keyword-only\n",
            "  x = pd.concat(x[::order], 1)\n",
            "/usr/local/lib/python3.7/dist-packages/statsmodels/tsa/tsatools.py:142: FutureWarning: In a future version of pandas all arguments of concat except for the argument 'objs' will be keyword-only\n",
            "  x = pd.concat(x[::order], 1)\n",
            "/usr/local/lib/python3.7/dist-packages/statsmodels/tsa/tsatools.py:142: FutureWarning: In a future version of pandas all arguments of concat except for the argument 'objs' will be keyword-only\n",
            "  x = pd.concat(x[::order], 1)\n",
            "/usr/local/lib/python3.7/dist-packages/statsmodels/tsa/tsatools.py:142: FutureWarning: In a future version of pandas all arguments of concat except for the argument 'objs' will be keyword-only\n",
            "  x = pd.concat(x[::order], 1)\n",
            "/usr/local/lib/python3.7/dist-packages/statsmodels/tsa/tsatools.py:142: FutureWarning: In a future version of pandas all arguments of concat except for the argument 'objs' will be keyword-only\n",
            "  x = pd.concat(x[::order], 1)\n",
            "/usr/local/lib/python3.7/dist-packages/statsmodels/tsa/tsatools.py:142: FutureWarning: In a future version of pandas all arguments of concat except for the argument 'objs' will be keyword-only\n",
            "  x = pd.concat(x[::order], 1)\n",
            "/usr/local/lib/python3.7/dist-packages/statsmodels/tsa/tsatools.py:142: FutureWarning: In a future version of pandas all arguments of concat except for the argument 'objs' will be keyword-only\n",
            "  x = pd.concat(x[::order], 1)\n",
            "/usr/local/lib/python3.7/dist-packages/statsmodels/tsa/tsatools.py:142: FutureWarning: In a future version of pandas all arguments of concat except for the argument 'objs' will be keyword-only\n",
            "  x = pd.concat(x[::order], 1)\n",
            "/usr/local/lib/python3.7/dist-packages/statsmodels/tsa/tsatools.py:142: FutureWarning: In a future version of pandas all arguments of concat except for the argument 'objs' will be keyword-only\n",
            "  x = pd.concat(x[::order], 1)\n",
            "/usr/local/lib/python3.7/dist-packages/statsmodels/tsa/tsatools.py:142: FutureWarning: In a future version of pandas all arguments of concat except for the argument 'objs' will be keyword-only\n",
            "  x = pd.concat(x[::order], 1)\n",
            "/usr/local/lib/python3.7/dist-packages/statsmodels/tsa/tsatools.py:142: FutureWarning: In a future version of pandas all arguments of concat except for the argument 'objs' will be keyword-only\n",
            "  x = pd.concat(x[::order], 1)\n",
            "/usr/local/lib/python3.7/dist-packages/statsmodels/tsa/tsatools.py:142: FutureWarning: In a future version of pandas all arguments of concat except for the argument 'objs' will be keyword-only\n",
            "  x = pd.concat(x[::order], 1)\n",
            "/usr/local/lib/python3.7/dist-packages/statsmodels/tsa/tsatools.py:142: FutureWarning: In a future version of pandas all arguments of concat except for the argument 'objs' will be keyword-only\n",
            "  x = pd.concat(x[::order], 1)\n",
            "/usr/local/lib/python3.7/dist-packages/statsmodels/tsa/tsatools.py:142: FutureWarning: In a future version of pandas all arguments of concat except for the argument 'objs' will be keyword-only\n",
            "  x = pd.concat(x[::order], 1)\n",
            "/usr/local/lib/python3.7/dist-packages/statsmodels/tsa/tsatools.py:142: FutureWarning: In a future version of pandas all arguments of concat except for the argument 'objs' will be keyword-only\n",
            "  x = pd.concat(x[::order], 1)\n",
            "/usr/local/lib/python3.7/dist-packages/statsmodels/tsa/tsatools.py:142: FutureWarning: In a future version of pandas all arguments of concat except for the argument 'objs' will be keyword-only\n",
            "  x = pd.concat(x[::order], 1)\n",
            "/usr/local/lib/python3.7/dist-packages/statsmodels/tsa/tsatools.py:142: FutureWarning: In a future version of pandas all arguments of concat except for the argument 'objs' will be keyword-only\n",
            "  x = pd.concat(x[::order], 1)\n",
            "/usr/local/lib/python3.7/dist-packages/statsmodels/tsa/tsatools.py:142: FutureWarning: In a future version of pandas all arguments of concat except for the argument 'objs' will be keyword-only\n",
            "  x = pd.concat(x[::order], 1)\n",
            "/usr/local/lib/python3.7/dist-packages/statsmodels/tsa/tsatools.py:142: FutureWarning: In a future version of pandas all arguments of concat except for the argument 'objs' will be keyword-only\n",
            "  x = pd.concat(x[::order], 1)\n",
            "/usr/local/lib/python3.7/dist-packages/statsmodels/tsa/tsatools.py:142: FutureWarning: In a future version of pandas all arguments of concat except for the argument 'objs' will be keyword-only\n",
            "  x = pd.concat(x[::order], 1)\n",
            "/usr/local/lib/python3.7/dist-packages/statsmodels/tsa/tsatools.py:142: FutureWarning: In a future version of pandas all arguments of concat except for the argument 'objs' will be keyword-only\n",
            "  x = pd.concat(x[::order], 1)\n",
            "/usr/local/lib/python3.7/dist-packages/statsmodels/tsa/tsatools.py:142: FutureWarning: In a future version of pandas all arguments of concat except for the argument 'objs' will be keyword-only\n",
            "  x = pd.concat(x[::order], 1)\n",
            "/usr/local/lib/python3.7/dist-packages/statsmodels/tsa/tsatools.py:142: FutureWarning: In a future version of pandas all arguments of concat except for the argument 'objs' will be keyword-only\n",
            "  x = pd.concat(x[::order], 1)\n",
            "/usr/local/lib/python3.7/dist-packages/statsmodels/tsa/tsatools.py:142: FutureWarning: In a future version of pandas all arguments of concat except for the argument 'objs' will be keyword-only\n",
            "  x = pd.concat(x[::order], 1)\n",
            "/usr/local/lib/python3.7/dist-packages/statsmodels/tsa/tsatools.py:142: FutureWarning: In a future version of pandas all arguments of concat except for the argument 'objs' will be keyword-only\n",
            "  x = pd.concat(x[::order], 1)\n",
            "/usr/local/lib/python3.7/dist-packages/statsmodels/tsa/tsatools.py:142: FutureWarning: In a future version of pandas all arguments of concat except for the argument 'objs' will be keyword-only\n",
            "  x = pd.concat(x[::order], 1)\n",
            "/usr/local/lib/python3.7/dist-packages/statsmodels/tsa/tsatools.py:142: FutureWarning: In a future version of pandas all arguments of concat except for the argument 'objs' will be keyword-only\n",
            "  x = pd.concat(x[::order], 1)\n",
            "/usr/local/lib/python3.7/dist-packages/statsmodels/tsa/tsatools.py:142: FutureWarning: In a future version of pandas all arguments of concat except for the argument 'objs' will be keyword-only\n",
            "  x = pd.concat(x[::order], 1)\n",
            "/usr/local/lib/python3.7/dist-packages/statsmodels/tsa/tsatools.py:142: FutureWarning: In a future version of pandas all arguments of concat except for the argument 'objs' will be keyword-only\n",
            "  x = pd.concat(x[::order], 1)\n",
            "/usr/local/lib/python3.7/dist-packages/statsmodels/tsa/tsatools.py:142: FutureWarning: In a future version of pandas all arguments of concat except for the argument 'objs' will be keyword-only\n",
            "  x = pd.concat(x[::order], 1)\n",
            "/usr/local/lib/python3.7/dist-packages/statsmodels/tsa/tsatools.py:142: FutureWarning: In a future version of pandas all arguments of concat except for the argument 'objs' will be keyword-only\n",
            "  x = pd.concat(x[::order], 1)\n",
            "/usr/local/lib/python3.7/dist-packages/statsmodels/tsa/tsatools.py:142: FutureWarning: In a future version of pandas all arguments of concat except for the argument 'objs' will be keyword-only\n",
            "  x = pd.concat(x[::order], 1)\n",
            "/usr/local/lib/python3.7/dist-packages/statsmodels/tsa/tsatools.py:142: FutureWarning: In a future version of pandas all arguments of concat except for the argument 'objs' will be keyword-only\n",
            "  x = pd.concat(x[::order], 1)\n",
            "/usr/local/lib/python3.7/dist-packages/statsmodels/tsa/tsatools.py:142: FutureWarning: In a future version of pandas all arguments of concat except for the argument 'objs' will be keyword-only\n",
            "  x = pd.concat(x[::order], 1)\n",
            "/usr/local/lib/python3.7/dist-packages/statsmodels/tsa/tsatools.py:142: FutureWarning: In a future version of pandas all arguments of concat except for the argument 'objs' will be keyword-only\n",
            "  x = pd.concat(x[::order], 1)\n",
            "/usr/local/lib/python3.7/dist-packages/statsmodels/tsa/tsatools.py:142: FutureWarning: In a future version of pandas all arguments of concat except for the argument 'objs' will be keyword-only\n",
            "  x = pd.concat(x[::order], 1)\n",
            "/usr/local/lib/python3.7/dist-packages/statsmodels/tsa/tsatools.py:142: FutureWarning: In a future version of pandas all arguments of concat except for the argument 'objs' will be keyword-only\n",
            "  x = pd.concat(x[::order], 1)\n",
            "/usr/local/lib/python3.7/dist-packages/statsmodels/tsa/tsatools.py:142: FutureWarning: In a future version of pandas all arguments of concat except for the argument 'objs' will be keyword-only\n",
            "  x = pd.concat(x[::order], 1)\n",
            "/usr/local/lib/python3.7/dist-packages/statsmodels/tsa/tsatools.py:142: FutureWarning: In a future version of pandas all arguments of concat except for the argument 'objs' will be keyword-only\n",
            "  x = pd.concat(x[::order], 1)\n",
            "/usr/local/lib/python3.7/dist-packages/statsmodels/tsa/tsatools.py:142: FutureWarning: In a future version of pandas all arguments of concat except for the argument 'objs' will be keyword-only\n",
            "  x = pd.concat(x[::order], 1)\n",
            "/usr/local/lib/python3.7/dist-packages/statsmodels/tsa/tsatools.py:142: FutureWarning: In a future version of pandas all arguments of concat except for the argument 'objs' will be keyword-only\n",
            "  x = pd.concat(x[::order], 1)\n",
            "/usr/local/lib/python3.7/dist-packages/statsmodels/tsa/tsatools.py:142: FutureWarning: In a future version of pandas all arguments of concat except for the argument 'objs' will be keyword-only\n",
            "  x = pd.concat(x[::order], 1)\n",
            "/usr/local/lib/python3.7/dist-packages/statsmodels/tsa/tsatools.py:142: FutureWarning: In a future version of pandas all arguments of concat except for the argument 'objs' will be keyword-only\n",
            "  x = pd.concat(x[::order], 1)\n",
            "/usr/local/lib/python3.7/dist-packages/statsmodels/tsa/tsatools.py:142: FutureWarning: In a future version of pandas all arguments of concat except for the argument 'objs' will be keyword-only\n",
            "  x = pd.concat(x[::order], 1)\n",
            "/usr/local/lib/python3.7/dist-packages/statsmodels/tsa/tsatools.py:142: FutureWarning: In a future version of pandas all arguments of concat except for the argument 'objs' will be keyword-only\n",
            "  x = pd.concat(x[::order], 1)\n",
            "/usr/local/lib/python3.7/dist-packages/statsmodels/tsa/tsatools.py:142: FutureWarning: In a future version of pandas all arguments of concat except for the argument 'objs' will be keyword-only\n",
            "  x = pd.concat(x[::order], 1)\n",
            "/usr/local/lib/python3.7/dist-packages/statsmodels/tsa/tsatools.py:142: FutureWarning: In a future version of pandas all arguments of concat except for the argument 'objs' will be keyword-only\n",
            "  x = pd.concat(x[::order], 1)\n",
            "/usr/local/lib/python3.7/dist-packages/statsmodels/tsa/tsatools.py:142: FutureWarning: In a future version of pandas all arguments of concat except for the argument 'objs' will be keyword-only\n",
            "  x = pd.concat(x[::order], 1)\n",
            "/usr/local/lib/python3.7/dist-packages/statsmodels/tsa/tsatools.py:142: FutureWarning: In a future version of pandas all arguments of concat except for the argument 'objs' will be keyword-only\n",
            "  x = pd.concat(x[::order], 1)\n",
            "/usr/local/lib/python3.7/dist-packages/statsmodels/tsa/tsatools.py:142: FutureWarning: In a future version of pandas all arguments of concat except for the argument 'objs' will be keyword-only\n",
            "  x = pd.concat(x[::order], 1)\n",
            "/usr/local/lib/python3.7/dist-packages/statsmodels/tsa/tsatools.py:142: FutureWarning: In a future version of pandas all arguments of concat except for the argument 'objs' will be keyword-only\n",
            "  x = pd.concat(x[::order], 1)\n",
            "/usr/local/lib/python3.7/dist-packages/statsmodels/tsa/tsatools.py:142: FutureWarning: In a future version of pandas all arguments of concat except for the argument 'objs' will be keyword-only\n",
            "  x = pd.concat(x[::order], 1)\n",
            "/usr/local/lib/python3.7/dist-packages/statsmodels/tsa/tsatools.py:142: FutureWarning: In a future version of pandas all arguments of concat except for the argument 'objs' will be keyword-only\n",
            "  x = pd.concat(x[::order], 1)\n",
            "/usr/local/lib/python3.7/dist-packages/statsmodels/tsa/tsatools.py:142: FutureWarning: In a future version of pandas all arguments of concat except for the argument 'objs' will be keyword-only\n",
            "  x = pd.concat(x[::order], 1)\n",
            "/usr/local/lib/python3.7/dist-packages/statsmodels/tsa/tsatools.py:142: FutureWarning: In a future version of pandas all arguments of concat except for the argument 'objs' will be keyword-only\n",
            "  x = pd.concat(x[::order], 1)\n",
            "/usr/local/lib/python3.7/dist-packages/statsmodels/tsa/tsatools.py:142: FutureWarning: In a future version of pandas all arguments of concat except for the argument 'objs' will be keyword-only\n",
            "  x = pd.concat(x[::order], 1)\n",
            "/usr/local/lib/python3.7/dist-packages/statsmodels/tsa/tsatools.py:142: FutureWarning: In a future version of pandas all arguments of concat except for the argument 'objs' will be keyword-only\n",
            "  x = pd.concat(x[::order], 1)\n",
            "/usr/local/lib/python3.7/dist-packages/statsmodels/tsa/tsatools.py:142: FutureWarning: In a future version of pandas all arguments of concat except for the argument 'objs' will be keyword-only\n",
            "  x = pd.concat(x[::order], 1)\n",
            "/usr/local/lib/python3.7/dist-packages/statsmodels/tsa/tsatools.py:142: FutureWarning: In a future version of pandas all arguments of concat except for the argument 'objs' will be keyword-only\n",
            "  x = pd.concat(x[::order], 1)\n",
            "/usr/local/lib/python3.7/dist-packages/statsmodels/tsa/tsatools.py:142: FutureWarning: In a future version of pandas all arguments of concat except for the argument 'objs' will be keyword-only\n",
            "  x = pd.concat(x[::order], 1)\n",
            "/usr/local/lib/python3.7/dist-packages/statsmodels/tsa/tsatools.py:142: FutureWarning: In a future version of pandas all arguments of concat except for the argument 'objs' will be keyword-only\n",
            "  x = pd.concat(x[::order], 1)\n",
            "/usr/local/lib/python3.7/dist-packages/statsmodels/tsa/tsatools.py:142: FutureWarning: In a future version of pandas all arguments of concat except for the argument 'objs' will be keyword-only\n",
            "  x = pd.concat(x[::order], 1)\n",
            "/usr/local/lib/python3.7/dist-packages/statsmodels/tsa/tsatools.py:142: FutureWarning: In a future version of pandas all arguments of concat except for the argument 'objs' will be keyword-only\n",
            "  x = pd.concat(x[::order], 1)\n",
            "/usr/local/lib/python3.7/dist-packages/statsmodels/tsa/tsatools.py:142: FutureWarning: In a future version of pandas all arguments of concat except for the argument 'objs' will be keyword-only\n",
            "  x = pd.concat(x[::order], 1)\n",
            "/usr/local/lib/python3.7/dist-packages/statsmodels/tsa/tsatools.py:142: FutureWarning: In a future version of pandas all arguments of concat except for the argument 'objs' will be keyword-only\n",
            "  x = pd.concat(x[::order], 1)\n",
            "/usr/local/lib/python3.7/dist-packages/statsmodels/tsa/tsatools.py:142: FutureWarning: In a future version of pandas all arguments of concat except for the argument 'objs' will be keyword-only\n",
            "  x = pd.concat(x[::order], 1)\n",
            "/usr/local/lib/python3.7/dist-packages/statsmodels/tsa/tsatools.py:142: FutureWarning: In a future version of pandas all arguments of concat except for the argument 'objs' will be keyword-only\n",
            "  x = pd.concat(x[::order], 1)\n",
            "/usr/local/lib/python3.7/dist-packages/statsmodels/tsa/tsatools.py:142: FutureWarning: In a future version of pandas all arguments of concat except for the argument 'objs' will be keyword-only\n",
            "  x = pd.concat(x[::order], 1)\n",
            "/usr/local/lib/python3.7/dist-packages/statsmodels/tsa/tsatools.py:142: FutureWarning: In a future version of pandas all arguments of concat except for the argument 'objs' will be keyword-only\n",
            "  x = pd.concat(x[::order], 1)\n",
            "/usr/local/lib/python3.7/dist-packages/statsmodels/tsa/tsatools.py:142: FutureWarning: In a future version of pandas all arguments of concat except for the argument 'objs' will be keyword-only\n",
            "  x = pd.concat(x[::order], 1)\n",
            "/usr/local/lib/python3.7/dist-packages/statsmodels/tsa/tsatools.py:142: FutureWarning: In a future version of pandas all arguments of concat except for the argument 'objs' will be keyword-only\n",
            "  x = pd.concat(x[::order], 1)\n",
            "/usr/local/lib/python3.7/dist-packages/statsmodels/tsa/tsatools.py:142: FutureWarning: In a future version of pandas all arguments of concat except for the argument 'objs' will be keyword-only\n",
            "  x = pd.concat(x[::order], 1)\n",
            "/usr/local/lib/python3.7/dist-packages/statsmodels/tsa/tsatools.py:142: FutureWarning: In a future version of pandas all arguments of concat except for the argument 'objs' will be keyword-only\n",
            "  x = pd.concat(x[::order], 1)\n",
            "/usr/local/lib/python3.7/dist-packages/statsmodels/tsa/tsatools.py:142: FutureWarning: In a future version of pandas all arguments of concat except for the argument 'objs' will be keyword-only\n",
            "  x = pd.concat(x[::order], 1)\n",
            "/usr/local/lib/python3.7/dist-packages/statsmodels/tsa/tsatools.py:142: FutureWarning: In a future version of pandas all arguments of concat except for the argument 'objs' will be keyword-only\n",
            "  x = pd.concat(x[::order], 1)\n",
            "/usr/local/lib/python3.7/dist-packages/statsmodels/tsa/tsatools.py:142: FutureWarning: In a future version of pandas all arguments of concat except for the argument 'objs' will be keyword-only\n",
            "  x = pd.concat(x[::order], 1)\n",
            "/usr/local/lib/python3.7/dist-packages/statsmodels/tsa/tsatools.py:142: FutureWarning: In a future version of pandas all arguments of concat except for the argument 'objs' will be keyword-only\n",
            "  x = pd.concat(x[::order], 1)\n",
            "/usr/local/lib/python3.7/dist-packages/statsmodels/tsa/tsatools.py:142: FutureWarning: In a future version of pandas all arguments of concat except for the argument 'objs' will be keyword-only\n",
            "  x = pd.concat(x[::order], 1)\n",
            "/usr/local/lib/python3.7/dist-packages/statsmodels/tsa/tsatools.py:142: FutureWarning: In a future version of pandas all arguments of concat except for the argument 'objs' will be keyword-only\n",
            "  x = pd.concat(x[::order], 1)\n",
            "/usr/local/lib/python3.7/dist-packages/statsmodels/tsa/tsatools.py:142: FutureWarning: In a future version of pandas all arguments of concat except for the argument 'objs' will be keyword-only\n",
            "  x = pd.concat(x[::order], 1)\n",
            "/usr/local/lib/python3.7/dist-packages/statsmodels/tsa/tsatools.py:142: FutureWarning: In a future version of pandas all arguments of concat except for the argument 'objs' will be keyword-only\n",
            "  x = pd.concat(x[::order], 1)\n",
            "/usr/local/lib/python3.7/dist-packages/statsmodels/tsa/tsatools.py:142: FutureWarning: In a future version of pandas all arguments of concat except for the argument 'objs' will be keyword-only\n",
            "  x = pd.concat(x[::order], 1)\n",
            "/usr/local/lib/python3.7/dist-packages/statsmodels/tsa/tsatools.py:142: FutureWarning: In a future version of pandas all arguments of concat except for the argument 'objs' will be keyword-only\n",
            "  x = pd.concat(x[::order], 1)\n",
            "/usr/local/lib/python3.7/dist-packages/statsmodels/tsa/tsatools.py:142: FutureWarning: In a future version of pandas all arguments of concat except for the argument 'objs' will be keyword-only\n",
            "  x = pd.concat(x[::order], 1)\n",
            "/usr/local/lib/python3.7/dist-packages/statsmodels/tsa/tsatools.py:142: FutureWarning: In a future version of pandas all arguments of concat except for the argument 'objs' will be keyword-only\n",
            "  x = pd.concat(x[::order], 1)\n",
            "/usr/local/lib/python3.7/dist-packages/statsmodels/tsa/tsatools.py:142: FutureWarning: In a future version of pandas all arguments of concat except for the argument 'objs' will be keyword-only\n",
            "  x = pd.concat(x[::order], 1)\n",
            "/usr/local/lib/python3.7/dist-packages/statsmodels/tsa/tsatools.py:142: FutureWarning: In a future version of pandas all arguments of concat except for the argument 'objs' will be keyword-only\n",
            "  x = pd.concat(x[::order], 1)\n",
            "/usr/local/lib/python3.7/dist-packages/statsmodels/tsa/tsatools.py:142: FutureWarning: In a future version of pandas all arguments of concat except for the argument 'objs' will be keyword-only\n",
            "  x = pd.concat(x[::order], 1)\n",
            "/usr/local/lib/python3.7/dist-packages/statsmodels/tsa/tsatools.py:142: FutureWarning: In a future version of pandas all arguments of concat except for the argument 'objs' will be keyword-only\n",
            "  x = pd.concat(x[::order], 1)\n",
            "/usr/local/lib/python3.7/dist-packages/statsmodels/tsa/tsatools.py:142: FutureWarning: In a future version of pandas all arguments of concat except for the argument 'objs' will be keyword-only\n",
            "  x = pd.concat(x[::order], 1)\n",
            "/usr/local/lib/python3.7/dist-packages/statsmodels/tsa/tsatools.py:142: FutureWarning: In a future version of pandas all arguments of concat except for the argument 'objs' will be keyword-only\n",
            "  x = pd.concat(x[::order], 1)\n",
            "/usr/local/lib/python3.7/dist-packages/statsmodels/tsa/tsatools.py:142: FutureWarning: In a future version of pandas all arguments of concat except for the argument 'objs' will be keyword-only\n",
            "  x = pd.concat(x[::order], 1)\n",
            "/usr/local/lib/python3.7/dist-packages/statsmodels/tsa/tsatools.py:142: FutureWarning: In a future version of pandas all arguments of concat except for the argument 'objs' will be keyword-only\n",
            "  x = pd.concat(x[::order], 1)\n",
            "/usr/local/lib/python3.7/dist-packages/statsmodels/tsa/tsatools.py:142: FutureWarning: In a future version of pandas all arguments of concat except for the argument 'objs' will be keyword-only\n",
            "  x = pd.concat(x[::order], 1)\n",
            "/usr/local/lib/python3.7/dist-packages/statsmodels/tsa/tsatools.py:142: FutureWarning: In a future version of pandas all arguments of concat except for the argument 'objs' will be keyword-only\n",
            "  x = pd.concat(x[::order], 1)\n",
            "/usr/local/lib/python3.7/dist-packages/statsmodels/tsa/tsatools.py:142: FutureWarning: In a future version of pandas all arguments of concat except for the argument 'objs' will be keyword-only\n",
            "  x = pd.concat(x[::order], 1)\n",
            "/usr/local/lib/python3.7/dist-packages/statsmodels/tsa/tsatools.py:142: FutureWarning: In a future version of pandas all arguments of concat except for the argument 'objs' will be keyword-only\n",
            "  x = pd.concat(x[::order], 1)\n",
            "/usr/local/lib/python3.7/dist-packages/statsmodels/tsa/tsatools.py:142: FutureWarning: In a future version of pandas all arguments of concat except for the argument 'objs' will be keyword-only\n",
            "  x = pd.concat(x[::order], 1)\n",
            "/usr/local/lib/python3.7/dist-packages/statsmodels/tsa/tsatools.py:142: FutureWarning: In a future version of pandas all arguments of concat except for the argument 'objs' will be keyword-only\n",
            "  x = pd.concat(x[::order], 1)\n",
            "/usr/local/lib/python3.7/dist-packages/statsmodels/tsa/tsatools.py:142: FutureWarning: In a future version of pandas all arguments of concat except for the argument 'objs' will be keyword-only\n",
            "  x = pd.concat(x[::order], 1)\n",
            "/usr/local/lib/python3.7/dist-packages/statsmodels/tsa/tsatools.py:142: FutureWarning: In a future version of pandas all arguments of concat except for the argument 'objs' will be keyword-only\n",
            "  x = pd.concat(x[::order], 1)\n",
            "/usr/local/lib/python3.7/dist-packages/statsmodels/tsa/tsatools.py:142: FutureWarning: In a future version of pandas all arguments of concat except for the argument 'objs' will be keyword-only\n",
            "  x = pd.concat(x[::order], 1)\n",
            "/usr/local/lib/python3.7/dist-packages/statsmodels/tsa/tsatools.py:142: FutureWarning: In a future version of pandas all arguments of concat except for the argument 'objs' will be keyword-only\n",
            "  x = pd.concat(x[::order], 1)\n",
            "/usr/local/lib/python3.7/dist-packages/statsmodels/tsa/tsatools.py:142: FutureWarning: In a future version of pandas all arguments of concat except for the argument 'objs' will be keyword-only\n",
            "  x = pd.concat(x[::order], 1)\n",
            "/usr/local/lib/python3.7/dist-packages/statsmodels/tsa/tsatools.py:142: FutureWarning: In a future version of pandas all arguments of concat except for the argument 'objs' will be keyword-only\n",
            "  x = pd.concat(x[::order], 1)\n",
            "/usr/local/lib/python3.7/dist-packages/statsmodels/tsa/tsatools.py:142: FutureWarning: In a future version of pandas all arguments of concat except for the argument 'objs' will be keyword-only\n",
            "  x = pd.concat(x[::order], 1)\n",
            "/usr/local/lib/python3.7/dist-packages/statsmodels/tsa/tsatools.py:142: FutureWarning: In a future version of pandas all arguments of concat except for the argument 'objs' will be keyword-only\n",
            "  x = pd.concat(x[::order], 1)\n",
            "/usr/local/lib/python3.7/dist-packages/statsmodels/tsa/tsatools.py:142: FutureWarning: In a future version of pandas all arguments of concat except for the argument 'objs' will be keyword-only\n",
            "  x = pd.concat(x[::order], 1)\n",
            "/usr/local/lib/python3.7/dist-packages/statsmodels/tsa/tsatools.py:142: FutureWarning: In a future version of pandas all arguments of concat except for the argument 'objs' will be keyword-only\n",
            "  x = pd.concat(x[::order], 1)\n",
            "/usr/local/lib/python3.7/dist-packages/statsmodels/tsa/tsatools.py:142: FutureWarning: In a future version of pandas all arguments of concat except for the argument 'objs' will be keyword-only\n",
            "  x = pd.concat(x[::order], 1)\n",
            "/usr/local/lib/python3.7/dist-packages/statsmodels/tsa/tsatools.py:142: FutureWarning: In a future version of pandas all arguments of concat except for the argument 'objs' will be keyword-only\n",
            "  x = pd.concat(x[::order], 1)\n",
            "/usr/local/lib/python3.7/dist-packages/statsmodels/tsa/tsatools.py:142: FutureWarning: In a future version of pandas all arguments of concat except for the argument 'objs' will be keyword-only\n",
            "  x = pd.concat(x[::order], 1)\n",
            "/usr/local/lib/python3.7/dist-packages/statsmodels/tsa/tsatools.py:142: FutureWarning: In a future version of pandas all arguments of concat except for the argument 'objs' will be keyword-only\n",
            "  x = pd.concat(x[::order], 1)\n",
            "/usr/local/lib/python3.7/dist-packages/statsmodels/tsa/tsatools.py:142: FutureWarning: In a future version of pandas all arguments of concat except for the argument 'objs' will be keyword-only\n",
            "  x = pd.concat(x[::order], 1)\n",
            "/usr/local/lib/python3.7/dist-packages/statsmodels/tsa/tsatools.py:142: FutureWarning: In a future version of pandas all arguments of concat except for the argument 'objs' will be keyword-only\n",
            "  x = pd.concat(x[::order], 1)\n",
            "/usr/local/lib/python3.7/dist-packages/statsmodels/tsa/tsatools.py:142: FutureWarning: In a future version of pandas all arguments of concat except for the argument 'objs' will be keyword-only\n",
            "  x = pd.concat(x[::order], 1)\n",
            "/usr/local/lib/python3.7/dist-packages/statsmodels/tsa/tsatools.py:142: FutureWarning: In a future version of pandas all arguments of concat except for the argument 'objs' will be keyword-only\n",
            "  x = pd.concat(x[::order], 1)\n",
            "/usr/local/lib/python3.7/dist-packages/statsmodels/tsa/tsatools.py:142: FutureWarning: In a future version of pandas all arguments of concat except for the argument 'objs' will be keyword-only\n",
            "  x = pd.concat(x[::order], 1)\n"
          ]
        }
      ]
    },
    {
      "cell_type": "markdown",
      "source": [
        "We have a list of features we believe should give us a better prediction after using the backward elimination method"
      ],
      "metadata": {
        "id": "s1aeSq_4M2xf"
      }
    },
    {
      "cell_type": "code",
      "source": [
        "# number of s\n",
        "print(\"Number of Features:{}\".format(len(selected_features_BE)))"
      ],
      "metadata": {
        "id": "YISf5rO2Nf_e",
        "outputId": "76f31440-b75a-4064-f18d-925c58ae63c2",
        "colab": {
          "base_uri": "https://localhost:8080/"
        }
      },
      "execution_count": 34,
      "outputs": [
        {
          "output_type": "stream",
          "name": "stdout",
          "text": [
            "Number of Features:107\n"
          ]
        }
      ]
    },
    {
      "cell_type": "code",
      "source": [
        "# Our loop selected 107 features to use to get a better model\n",
        "\n",
        "### Creating a new test and train dataset with the columns choosen using backward elimination\n",
        "new_train_dataset = true_train_dataset[selected_features_BE]\n",
        "new_test_dataset = true_test_dataset[selected_features_BE]\n",
        "\n",
        "\n",
        "# creating model\n",
        "model4 = LinearRegression()\n",
        "\n",
        "# fitting the model\n",
        "model4.fit(new_train_dataset, Y)\n",
        "\n",
        "list_of_col = new_train_dataset.columns.to_list()\n"
      ],
      "metadata": {
        "id": "XlplI9q3Y1QH"
      },
      "execution_count": 35,
      "outputs": []
    },
    {
      "cell_type": "markdown",
      "source": [
        "### Final Model Accuracy"
      ],
      "metadata": {
        "id": "ppD35BFj-G1j"
      }
    },
    {
      "cell_type": "markdown",
      "source": [
        "We need to check how well our model is doing. We are aiming to increase overall model performance on unseen data. We use cross validation to know how well our model is doing."
      ],
      "metadata": {
        "id": "XACxeGdD-WOL"
      }
    },
    {
      "cell_type": "code",
      "source": [
        "# using CV score to cross validate our model by splitting the data set into 10 for testing\n",
        "k_folds = KFold(n_splits = 5)\n",
        "\n",
        "scores = cross_val_score(model4, new_train_dataset, Y, cv = k_folds)\n",
        "\n",
        "print(\"Cross Validation Scores: \", scores)\n",
        "print(\"Average CV Score: \", scores.mean())\n",
        "print(\"Number of CV Scores used in Average: \", len(scores))"
      ],
      "metadata": {
        "id": "CWIbc-NH-VSJ",
        "outputId": "fd0f4685-aded-4c11-b726-e3a09ebcc72f",
        "colab": {
          "base_uri": "https://localhost:8080/"
        }
      },
      "execution_count": 36,
      "outputs": [
        {
          "output_type": "stream",
          "name": "stdout",
          "text": [
            "Cross Validation Scores:  [0.90932208 0.8851838  0.86722982 0.92693638 0.73293369]\n",
            "Average CV Score:  0.8643211561833025\n",
            "Number of CV Scores used in Average:  5\n"
          ]
        }
      ]
    },
    {
      "cell_type": "code",
      "source": [
        "X2 = sm.add_constant(new_train_dataset)\n",
        "est = sm.OLS(Y, X2)\n",
        "est2 = est.fit()\n",
        "est2.pvalues[0:10]"
      ],
      "metadata": {
        "id": "qXBy8bX_U8Z5"
      },
      "execution_count": null,
      "outputs": []
    },
    {
      "cell_type": "markdown",
      "source": [
        "This model is doing better compared to our first model "
      ],
      "metadata": {
        "id": "crWs8HyLPIIY"
      }
    },
    {
      "cell_type": "markdown",
      "source": [
        "Creating a residual plot to check how well the model worked on training dataser"
      ],
      "metadata": {
        "id": "Lo3CxPIE_dhd"
      }
    },
    {
      "cell_type": "code",
      "source": [
        "# using the model to predict from the train dataset\n",
        "y_pred = model4.predict(new_train_dataset)\n",
        "\n",
        "#calculating the residual which is the actual value minus the predicted value\n",
        "residuals = Y-y_pred\n",
        "\n",
        "# creating a residual plot \n",
        "plt.scatter(y = residuals,x = y_pred)\n",
        "\n",
        "plt.show()"
      ],
      "metadata": {
        "id": "kzivlCq89-xq"
      },
      "execution_count": null,
      "outputs": []
    },
    {
      "cell_type": "markdown",
      "source": [
        "From the residual plot, the points are close to zero which is good. However the points do not have constant variance which means our model can be improved."
      ],
      "metadata": {
        "id": "4JU4CftdPTcW"
      }
    },
    {
      "cell_type": "code",
      "source": [
        "data_coef = pd.Series(index=list_of_col, data=model4.coef_)\n",
        "\n",
        "coef_order = data_coef.abs().sort_values(ascending=False).index.tolist()\n",
        "\n",
        "print(\"----- Coefficients in Linear Regressions -------\")\n",
        "for i in range(0,len(new_train_dataset.columns)-1):\n",
        "    if model4.coef_[i] == 0:\n",
        "        print(\"{}:{}\".format(list_of_col[i],model4.coef_[i]))\n",
        "        \n",
        "print('-------Top 10 Features with high estimates ---------')\n",
        "print(data_coef[coef_order][:10])"
      ],
      "metadata": {
        "id": "A1wERZUprTjt"
      },
      "execution_count": null,
      "outputs": []
    },
    {
      "cell_type": "markdown",
      "source": [
        "### Running Model on Kaggle test dataset"
      ],
      "metadata": {
        "id": "5cMrS5tQn2cw"
      }
    },
    {
      "cell_type": "code",
      "source": [
        "# predicting numbers for kaggle test dataset\n",
        "y_pred = model4.predict(new_test_dataset)\n",
        "\n",
        "# setting predictions into data frame as in kaggle's sample submission\n",
        "submission=pd.DataFrame()\n",
        "submission['SalePrice']=np.exp(y_pred) # the sale price was logged in the beggining so we have to transform it back\n",
        "submission = submission.reset_index()\n",
        "submission = submission.rename(columns={\"index\":\"Id\"})\n",
        "submission['Id'] = submission.index + len(submission)+2\n",
        "\n",
        "# loading the data frame to csv files for submission\n",
        "submission.to_csv('project_1_submission.csv',index=False)\n",
        "  "
      ],
      "metadata": {
        "id": "Ok4JxSPdc1IE"
      },
      "execution_count": null,
      "outputs": []
    },
    {
      "cell_type": "markdown",
      "source": [
        "# Interpretation of model"
      ],
      "metadata": {
        "id": "TDwe83uYpT-l"
      }
    },
    {
      "cell_type": "markdown",
      "source": [
        "## Number of variables"
      ],
      "metadata": {
        "id": "ERa2J57S4no6"
      }
    },
    {
      "cell_type": "markdown",
      "source": [
        "\n",
        "In our final model, we've been able to improve our model by using only 107 variables instead of using all 236 variables. This suggests that the variables which were ommited such as if the Exterior covering on house is classified as other did not seem to help predict the house price.\n"
      ],
      "metadata": {
        "id": "TU1qwPD-4wmp"
      }
    },
    {
      "cell_type": "markdown",
      "source": [
        "## Coefficient Interpretation"
      ],
      "metadata": {
        "id": "odAjb94r49Fn"
      }
    },
    {
      "cell_type": "markdown",
      "source": [
        "-------Top 10 Features with high estimates ---------\n",
        "* RoofMatl_ClyTile:-      -2.496388\n",
        "* Condition2_PosN :-      -0.862393\n",
        "* RoofMatl_Membran:-      0.600497\n",
        "* RoofMatl_Metal:-        0.478032\n",
        "* MSZoning_RH:-         0.418199\n",
        "* MSZoning_FV:-        0.412944\n",
        "* MSZoning_RL:-         0.410313\n",
        "* MSZoning_RM:-        0.354843\n",
        "* RoofMatl_WdShngl:-    0.326137\n",
        "* Functional_Typ:-      0.307409\n",
        "\n",
        "\n",
        "According to the coefficients gotten from the model,\n",
        "  1. Roof materials\n",
        "    - a house whose roof is made with clytile clay or tile reduce the price of a house.\n",
        "   - a house with roof is made of Membrane or Metal increase the price of the house.\n",
        "  2. Proximity to various conditions (if more than one is present)\n",
        "    - Houses near positive off-site feature--park, greenbelt, etc reduce the price of house.\n",
        "  3. MS Zoning\n",
        "    - Houses in Floating Village(FV), Low Density(RL) and Medium Density(RM) increases the price of a house.\n",
        "  \n",
        "\n",
        "\n"
      ],
      "metadata": {
        "id": "dAd-5cS7pf7S"
      }
    },
    {
      "cell_type": "markdown",
      "source": [
        "#### Description of the top features\n"
      ],
      "metadata": {
        "id": "fyHT8p4T4grs"
      }
    },
    {
      "cell_type": "markdown",
      "source": [
        "MSZoning: Identifies the general zoning classification of the sale.\n",
        "\t\t\n",
        "       A\tAgriculture\n",
        "       C\tCommercial\n",
        "       FV\tFloating Village Residential\n",
        "       I\tIndustrial\n",
        "       RH\tResidential High Density\n",
        "       RL\tResidential Low Density\n",
        "       RP\tResidential Low Density Park \n",
        "       RM\tResidential Medium Density\n",
        "\n",
        "\tRoofMatl: Roof material\n",
        "\n",
        "       ClyTile\tClay or Tile\n",
        "       CompShg\tStandard (Composite) Shingle\n",
        "       Membran\tMembrane\n",
        "       Metal\tMetal\n",
        "       Roll\tRoll\n",
        "       Tar&Grv\tGravel & Tar\n",
        "       WdShake\tWood Shakes\n",
        "       WdShngl\tWood Shingles\n",
        "\n",
        " Condition2: Proximity to various conditions (if more than one is present)\n",
        "\t\t\n",
        "       Artery\tAdjacent to arterial street\n",
        "       Feedr\tAdjacent to feeder street\t\n",
        "       Norm\tNormal\t\n",
        "       RRNn\tWithin 200' of North-South Railroad\n",
        "       RRAn\tAdjacent to North-South Railroad\n",
        "       PosN\tNear positive off-site feature--park, greenbelt, etc.\n",
        "       PosA\tAdjacent to postive off-site feature\n",
        "       RRNe\tWithin 200' of East-West Railroad\n",
        "       RRAe\tAdjacent to East-West Railroad\n",
        "\t"
      ],
      "metadata": {
        "id": "lUK6KyTb5RYt"
      }
    },
    {
      "cell_type": "markdown",
      "source": [
        "## Conclusion on model"
      ],
      "metadata": {
        "id": "ttxFN7CS5fjG"
      }
    },
    {
      "cell_type": "markdown",
      "source": [
        "\n",
        "\n",
        "Our final model is doing better than the first model. Going through the residual plot the model is doing good, however it can be improved by maybe tranforming some variables."
      ],
      "metadata": {
        "id": "Cjel-82f5q4A"
      }
    }
  ]
}